{
 "cells": [
  {
   "cell_type": "code",
   "execution_count": 5,
   "metadata": {},
   "outputs": [],
   "source": [
    "%matplotlib  inline\n",
    "import numpy as np"
   ]
  },
  {
   "cell_type": "code",
   "execution_count": 157,
   "metadata": {},
   "outputs": [],
   "source": [
    "fmax=1448 #MHz\n",
    "df = 1. #Channel resolutioon\n",
    "nchan=336\n",
    "fmin = fmax - df*nchan\n",
    "max_dt = 1024 # Number of dm trials\n",
    "order = int(np.ceil(np.log2(nchan)))\n"
   ]
  },
  {
   "cell_type": "code",
   "execution_count": 158,
   "metadata": {
    "collapsed": true
   },
   "outputs": [],
   "source": [
    "def isquare(x):\n",
    "    return 1.0/(x*x)\n",
    "\n",
    "def cff(f11, f12, f21, f22):\n",
    "    rf = (isquare(f11) - isquare(f12))/(isquare(f21) - isquare(f22))\n",
    "    return rf\n",
    "\n",
    "def calc_delta_t(f11, f12, f21, f22, max_dt):\n",
    "    rf = cff(f11, f12, f21, f22)\n",
    "    delta_tf = (float(max_dt) - 1.0)*rf\n",
    "    dt = int(np.ceil(delta_tf)) + 1\n",
    "    return dt"
   ]
  },
  {
   "cell_type": "code",
   "execution_count": 159,
   "metadata": {},
   "outputs": [],
   "source": [
    "def fdmt(iternum, state, fmax, fmin, max_dt):\n",
    "    ndt, nchan, dfbot, dftop = state\n",
    "    state_nchan = nchan/2 + nchan %2\n",
    "    is_copy = nchan %2 == 1\n",
    "\n",
    "    bot_df = dfbot*2.0\n",
    "    if is_copy:\n",
    "        top_df = dftop\n",
    "    else:\n",
    "        top_df = dftop + dfbot\n",
    "        \n",
    "    if state_nchan == 1:\n",
    "        bot_df = top_df\n",
    "\n",
    "    #new_ndt = calc_delta_t(fmin, fmin+this_df, fmin, fmax, max_dt)\n",
    "    f2 = fmin+bot_df\n",
    "    \n",
    "    new_ndt = calc_delta_t(fmin, f2, fmin, fmax, max_dt)\n",
    "    \n",
    "    return (new_ndt, state_nchan, bot_df, top_df)\n",
    "    "
   ]
  },
  {
   "cell_type": "code",
   "execution_count": 160,
   "metadata": {},
   "outputs": [
    {
     "name": "stdout",
     "output_type": "stream",
     "text": [
      "FDMT fmax 1448 fmin 1112.0 df 1.0 max_dt 1024\n",
      "iteration 1 ndt 10 nchan 168 df_rest 2.0 df_top 2.0\n",
      "iteration 2 ndt 19 nchan 84 df_rest 4.0 df_top 4.0\n",
      "iteration 3 ndt 37 nchan 42 df_rest 8.0 df_top 8.0\n",
      "iteration 4 ndt 72 nchan 21 df_rest 16.0 df_top 16.0\n",
      "iteration 5 ndt 139 nchan 11 df_rest 32.0 df_top 16.0\n",
      "iteration 6 ndt 266 nchan 6 df_rest 64.0 df_top 16.0\n",
      "iteration 7 ndt 490 nchan 3 df_rest 128.0 df_top 80.0\n",
      "iteration 8 ndt 847 nchan 2 df_rest 256.0 df_top 80.0\n",
      "iteration 9 ndt 1024 nchan 1 df_rest 336.0 df_top 336.0\n"
     ]
    }
   ],
   "source": [
    "print('FDMT fmax', fmax, 'fmin', fmin, 'df', df, 'max_dt', max_dt) \n",
    "state = (1, nchan, df, df)\n",
    "\n",
    "for ii in range(order):\n",
    "    state = fdmt(ii, state, fmax, fmin, max_dt)\n",
    "    print('iteration', ii+1, 'ndt', state[0], 'nchan', state[1], 'df_rest', state[2], 'df_top', state[3])"
   ]
  },
  {
   "cell_type": "code",
   "execution_count": 161,
   "metadata": {},
   "outputs": [
    {
     "data": {
      "text/plain": [
       "847"
      ]
     },
     "execution_count": 161,
     "metadata": {},
     "output_type": "execute_result"
    }
   ],
   "source": [
    "calc_delta_t(fmin, fmin+256, fmin, fmax, max_dt)"
   ]
  },
  {
   "cell_type": "code",
   "execution_count": null,
   "metadata": {
    "collapsed": true
   },
   "outputs": [],
   "source": []
  },
  {
   "cell_type": "code",
   "execution_count": null,
   "metadata": {
    "collapsed": true
   },
   "outputs": [],
   "source": []
  }
 ],
 "metadata": {
  "kernelspec": {
   "display_name": "Python 3",
   "language": "python",
   "name": "python3"
  },
  "language_info": {
   "codemirror_mode": {
    "name": "ipython",
    "version": 3
   },
   "file_extension": ".py",
   "mimetype": "text/x-python",
   "name": "python",
   "nbconvert_exporter": "python",
   "pygments_lexer": "ipython3"
  }
 },
 "nbformat": 4,
 "nbformat_minor": 1
}
