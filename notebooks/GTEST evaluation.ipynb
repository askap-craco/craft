{
 "cells": [
  {
   "cell_type": "code",
   "execution_count": 40,
   "metadata": {},
   "outputs": [],
   "source": [
    "import numpy as np\n",
    "from pylab import *\n",
    "%matplotlib inline"
   ]
  },
  {
   "cell_type": "markdown",
   "metadata": {},
   "source": [
    "# GTEST - A cheeky little gaussianity test\n",
    "Designed in Keith's orange notebook during his visit to Steve's house at Kingscliff in April 2018.\n",
    "\n",
    "The electric field is Gaussian distributed:\n",
    "$X_i \\sim N(0, \\sigma^2)$\n",
    "\n",
    "Then,\n",
    "$X_i^2/\\sigma_i^2 \\sim \\chi^2(1) = \\Gamma(1/2, 2)$\n",
    "\n",
    "The Sum of all those squared Gaussians for 'detected' sample is:\n",
    "\n",
    "$\\theta$\n",
    "\n",
    "$\\sum_{i=1}^{n} X_i^2 = \\sum \\Gamma(1/2, 2\\sigma^2) = \\Gamma(k=n/2, \\theta=2 \\sigma^2)$\n",
    "\n",
    "... Rest of proof and\n",
    "\n",
    "$\\frac{Var[X]}{E^2[X]} = 2/n$ \n",
    "\n",
    "Where $n$ is the number of samples (including 2x if it's compelx). If it's gaussian.\n",
    "\n"
   ]
  },
  {
   "cell_type": "code",
   "execution_count": 65,
   "metadata": {},
   "outputs": [
    {
     "data": {
      "text/plain": [
       "(128, 256)"
      ]
     },
     "execution_count": 65,
     "metadata": {},
     "output_type": "execute_result"
    }
   ],
   "source": [
    "Nsamp_per_int = 1024\n",
    "Nint_per_block = 256\n",
    "Nblock = 128\n",
    "shape = (Nblock, Nint_per_block, Nsamp_per_int)\n",
    "v = (np.random.randn(*shape) + 1j*np.random.randn(*shape))*4\n",
    "vdet =(abs(v)**2).sum(axis=2)\n",
    "vdet.shape"
   ]
  },
  {
   "cell_type": "code",
   "execution_count": 66,
   "metadata": {},
   "outputs": [
    {
     "data": {
      "text/plain": [
       "(array([2.1000e+01, 3.2100e+02, 2.0570e+03, 6.7270e+03, 1.0562e+04,\n",
       "        8.4960e+03, 3.7060e+03, 7.6900e+02, 1.0400e+02, 5.0000e+00]),\n",
       " array([28691.18099149, 29555.60252678, 30420.02406208, 31284.44559738,\n",
       "        32148.86713267, 33013.28866797, 33877.71020327, 34742.13173856,\n",
       "        35606.55327386, 36470.97480916, 37335.39634445]),\n",
       " <a list of 10 Patch objects>)"
      ]
     },
     "execution_count": 66,
     "metadata": {},
     "output_type": "execute_result"
    },
    {
     "data": {
      "image/png": "[encoded data removed]",
      "text/plain": [
       "<matplotlib.figure.Figure at 0x116620350>"
      ]
     },
     "metadata": {},
     "output_type": "display_data"
    }
   ],
   "source": [
    "hist(vdet.flatten())\n"
   ]
  },
  {
   "cell_type": "code",
   "execution_count": 67,
   "metadata": {},
   "outputs": [],
   "source": [
    "gtest = (vdet.mean(axis=1)**2/vdet.var(axis=1))/float(Nsamp_per_int) - 1"
   ]
  },
  {
   "cell_type": "code",
   "execution_count": 68,
   "metadata": {},
   "outputs": [
    {
     "name": "stdout",
     "output_type": "stream",
     "text": [
      "0.007383301934227746 0.08386865290677259 0.27406860165268676 -0.19243766720961752\n"
     ]
    },
    {
     "data": {
      "image/png": "[encoded data removed]",
      "text/plain": [
       "<matplotlib.figure.Figure at 0x116907610>"
      ]
     },
     "metadata": {},
     "output_type": "display_data"
    }
   ],
   "source": [
    "hist(gtest)\n",
    "print gtest.mean(), gtest.std(), gtest.max(), gtest.min()"
   ]
  },
  {
   "cell_type": "code",
   "execution_count": 69,
   "metadata": {},
   "outputs": [
    {
     "data": {
      "text/plain": [
       "array([-0.09759245, -0.13819956, -0.05612159, -0.014555  ,  0.21692022,\n",
       "        0.02707339, -0.06945077, -0.09113191, -0.06818295, -0.02398407,\n",
       "       -0.03154189,  0.01247125,  0.03024933,  0.06882301,  0.00275066,\n",
       "       -0.03241743, -0.036652  ,  0.10829834,  0.10931388, -0.06104269,\n",
       "        0.01450321,  0.10420025, -0.11324399, -0.02461853,  0.08453091,\n",
       "        0.01291768, -0.06688005,  0.05295178,  0.06268984, -0.02939606,\n",
       "       -0.09033508, -0.15908422,  0.08518689, -0.07227442,  0.05006735,\n",
       "        0.08090847, -0.02017048, -0.02520384, -0.02483367, -0.00571163,\n",
       "       -0.137232  ,  0.16766082,  0.0583502 , -0.02285314,  0.06845291,\n",
       "        0.03478327,  0.13611593, -0.01176841,  0.05513467, -0.12122324,\n",
       "        0.01016008, -0.03265892,  0.09042757,  0.0570836 , -0.06201197,\n",
       "        0.06803585,  0.06186952,  0.08327792,  0.07191954, -0.02198982,\n",
       "        0.11028791,  0.14716441,  0.05365338, -0.01633979, -0.07549246,\n",
       "       -0.06724382, -0.18553099, -0.11372379,  0.06307979,  0.07280457,\n",
       "       -0.08141238,  0.00451777, -0.09625606,  0.02188963,  0.01666169,\n",
       "       -0.03815142,  0.13044907,  0.03452958,  0.05683325,  0.06397136,\n",
       "       -0.06570349, -0.0547257 , -0.03099918, -0.05679289,  0.03459865,\n",
       "       -0.07220229,  0.00575034, -0.02853167,  0.03089938,  0.02305939,\n",
       "        0.21280445, -0.00108651, -0.02022623,  0.09318336,  0.1010157 ,\n",
       "       -0.13982421, -0.06897107, -0.07761586, -0.19243767,  0.2740686 ,\n",
       "       -0.0231527 ,  0.11292615,  0.0233663 , -0.00493744,  0.13909234,\n",
       "        0.05332795, -0.10009141, -0.00254531,  0.02565409,  0.06102031,\n",
       "       -0.00188874, -0.00486748,  0.10981696, -0.040312  , -0.10209741,\n",
       "        0.05330329,  0.00536857, -0.06904597,  0.04322168, -0.07986077,\n",
       "       -0.16520953,  0.13886677,  0.04474693,  0.10593936,  0.03645825,\n",
       "        0.09325851,  0.02484281,  0.07513985])"
      ]
     },
     "execution_count": 69,
     "metadata": {},
     "output_type": "execute_result"
    }
   ],
   "source": [
    "gtest "
   ]
  },
  {
   "cell_type": "code",
   "execution_count": 84,
   "metadata": {},
   "outputs": [
    {
     "name": "stdout",
     "output_type": "stream",
     "text": [
      "1.747300221177639e-15 1.001685351601185\n"
     ]
    },
    {
     "data": {
      "image/png": "[encoded data removed]",
      "text/plain": [
       "<matplotlib.figure.Figure at 0x1195d0750>"
      ]
     },
     "metadata": {},
     "output_type": "display_data"
    }
   ],
   "source": [
    "vdetf = vdet.flatten()\n",
    "rescale = (vdetf/vdetf.mean() - 1)*np.sqrt(Nsamp_per_int)\n",
    "hist(rescale)\n",
    "print rescale.mean(), rescale.std()"
   ]
  },
  {
   "cell_type": "code",
   "execution_count": null,
   "metadata": {},
   "outputs": [],
   "source": []
  }
 ],
 "metadata": {
  "kernelspec": {
   "display_name": "Python 2",
   "language": "python",
   "name": "python2"
  },
  "language_info": {
   "codemirror_mode": {
    "name": "ipython",
    "version": 2
   },
   "file_extension": ".py",
   "mimetype": "text/x-python",
   "name": "python",
   "nbconvert_exporter": "python",
   "pygments_lexer": "ipython2",
   "version": "2.7.13"
  }
 },
 "nbformat": 4,
 "nbformat_minor": 2
}
