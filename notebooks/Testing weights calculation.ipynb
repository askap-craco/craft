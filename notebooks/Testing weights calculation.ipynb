{
 "cells": [
  {
   "cell_type": "markdown",
   "metadata": {},
   "source": [
    "# testing weights calculation\n",
    "FREDDA is C++ and dumb and I don't want a buggy implementation - so let's find an elegant way of calculating weights."
   ]
  },
  {
   "cell_type": "code",
   "execution_count": 32,
   "metadata": {},
   "outputs": [
    {
     "name": "stdout",
     "output_type": "stream",
     "text": [
      "Iteration 0 shape= [336   6 262] total elements= 528192\n",
      "Iteration 1 shape= [168  10 266] total elements= 446880\n",
      "Iteration 2 shape= [ 84  19 275] total elements= 438900\n",
      "Iteration 3 shape= [ 42  37 293] total elements= 455322\n",
      "Iteration 4 shape= [ 21  72 328] total elements= 495936\n",
      "Iteration 5 shape= [ 11 139 395] total elements= 603955\n",
      "Iteration 6 shape= [  6 266 522] total elements= 833112\n",
      "Iteration 7 shape= [  3 490 746] total elements= 1096620\n",
      "Iteration 8 shape= [   2  847 1103] total elements= 1868482\n",
      "Iteration 9 shape= [   1 1024 1280] total elements= 1310720\n"
     ]
    }
   ],
   "source": [
    "import numpy as np\n",
    "from pylab import *\n",
    "import fdmt\n",
    "import boxcar\n",
    "import simfrb\n",
    "%matplotlib inline\n",
    "\n",
    "nf = 336 # number of channels - must be a power of 2 currently.\n",
    "fmax = 1448. +0.5#  Freuency of the top of the band in MHz\n",
    "df = 1.0 # Channel bandwidth in MHz\n",
    "fmin = fmax - nf*df # Frequency of the bottom of the band in MHz\n",
    "nd = 1024 # Number of DM trials to do\n",
    "nt = 256 # Number of samples per block\n",
    "tsamp = 1.0 # milliseconds\n",
    "reload(fdmt)\n",
    "nbox = 32\n",
    "thefdmt = fdmt.Fdmt(fmin, df, nf, nd, nt) # make FDMT\n",
    "for i, s in enumerate(thefdmt.hist_state_shape):\n",
    "    print 'Iteration', i, 'shape=', s, 'total elements=', s.prod()"
   ]
  },
  {
   "cell_type": "code",
   "execution_count": 33,
   "metadata": {},
   "outputs": [],
   "source": [
    "# get effetive sigma - python version of Clancy's code\n",
    "def get_eff_sigma(thefdmt, idt, width):\n",
    "    assert width > 0\n",
    "    assert 0 <= idt < thefdmt.max_dt\n",
    "    nchan = thefdmt.n_f\n",
    "    nodes = thefdmt.trace_dm(idt)\n",
    "    smearing = [n[1]+1 for n in nodes]\n",
    "    total_var = 0\n",
    "    for chan in xrange(nchan):\n",
    "        if smearing[chan] > width:\n",
    "            H = smearing[chan]\n",
    "            L = width\n",
    "        else:\n",
    "            L = smearing[chan]\n",
    "            H = width\n",
    "            \n",
    "        assert H > 0\n",
    "        assert L > 0\n",
    "        \n",
    "        var_chan = (H-L+1)*(L**2) + (2*L - 1)*L*(L-1)/3\n",
    "        total_var += var_chan\n",
    "    \n",
    "    eff_sigma = pow(float(total_var),0.5)\n",
    "    \n",
    "    return eff_sigma"
   ]
  },
  {
   "cell_type": "code",
   "execution_count": 34,
   "metadata": {},
   "outputs": [],
   "source": [
    "weights1 = np.zeros((nd, nbox))\n",
    "for idt in xrange(nd):\n",
    "    for b in xrange(nbox):\n",
    "        weights1[idt, b] = get_eff_sigma(thefdmt, idt, b+1)"
   ]
  },
  {
   "cell_type": "code",
   "execution_count": 35,
   "metadata": {},
   "outputs": [],
   "source": [
    "def calc_var(smearing, width):\n",
    "    if smearing > width:\n",
    "        H = smearing\n",
    "        L = width\n",
    "    else:\n",
    "        L = smearing\n",
    "        H = width\n",
    "\n",
    "    assert H > 0\n",
    "    assert L > 0\n",
    "\n",
    "    # Clancy's formula\n",
    "    var_chan = (H-L+1)*(L**2) + (2*L - 1)*L*(L-1)/3\n",
    "    \n",
    "    return var_chan\n",
    "\n",
    "# Recusrive version\n",
    "def get_eff_var_recursive(thefdmt, idm, width, ichan=0, iterno=None):\n",
    "    if iterno is None:\n",
    "        iterno = len(thefdmt.hist_nf_data) - 1\n",
    "        # idt it set to -1 when it's a non-power-of-2 FDMT\n",
    "        assert 0 <= idm < thefdmt.max_dt, 'Invalid Idm ={}'.format(idm)\n",
    "        assert ichan == 0\n",
    "        \n",
    "    nfd = thefdmt.hist_nf_data[iterno]\n",
    "    nchan = len(nfd)\n",
    "    chanconfig = nfd[ichan][-1]\n",
    "    _ , id1, offset, id2, _, _, _ = chanconfig[idm]\n",
    "    inchan1 = 2*ichan\n",
    "    inchan2 = 2*ichan+1\n",
    "\n",
    "    # terminate recursion\n",
    "    if iterno == 0:\n",
    "        var_chan1 = calc_var(id1+1, width)\n",
    "        var_chan2 = calc_var(id2+1, width) \n",
    "    else:\n",
    "        # Cumulative only aplies to the upper channel\n",
    "        assert inchan2 > inchan1\n",
    "        var_chan1 = get_eff_var_recursive(thefdmt, id1, width, inchan1, iterno-1)\n",
    "\n",
    "        # For non power of 2 FDMT, idm ==-1 indicates a copy - so we don't go down the line for this guy.\n",
    "        if id2 == -1:\n",
    "            var_chan2 = 0\n",
    "        else:\n",
    "            var_chan2 = get_eff_var_recursive(thefdmt, id2, width, inchan2, iterno-1)\n",
    "\n",
    "    total_var = var_chan1 + var_chan2\n",
    "    \n",
    "    return total_var"
   ]
  },
  {
   "cell_type": "code",
   "execution_count": 36,
   "metadata": {},
   "outputs": [],
   "source": [
    "get_eff_var_recursive(thefdmt, idm=0, width=1)\n",
    "weights2 = np.zeros((nd, nbox))\n",
    "for idt in xrange(nd):\n",
    "    for b in xrange(nbox):\n",
    "        weights2[idt, b] = np.sqrt(get_eff_var_recursive(thefdmt, idt, b+1))"
   ]
  },
  {
   "cell_type": "code",
   "execution_count": 37,
   "metadata": {},
   "outputs": [
    {
     "data": {
      "text/plain": [
       "<matplotlib.image.AxesImage at 0x114c708d0>"
      ]
     },
     "execution_count": 37,
     "metadata": {},
     "output_type": "execute_result"
    },
    {
     "data": {
      "image/png": "[encoded data removed]",
      "text/plain": [
       "<matplotlib.figure.Figure at 0x1142d3310>"
      ]
     },
     "metadata": {},
     "output_type": "display_data"
    }
   ],
   "source": [
    "fig, axs = subplots(1,2)\n",
    "axs[0].imshow(weights1, aspect='auto', origin='lower')\n",
    "axs[1].imshow(weights2, aspect='auto', origin='lower')"
   ]
  },
  {
   "cell_type": "code",
   "execution_count": 38,
   "metadata": {},
   "outputs": [
    {
     "data": {
      "text/plain": [
       "True"
      ]
     },
     "execution_count": 38,
     "metadata": {},
     "output_type": "execute_result"
    }
   ],
   "source": [
    "np.all(abs(weights1 - weights2) < 1e-6)"
   ]
  },
  {
   "cell_type": "code",
   "execution_count": null,
   "metadata": {},
   "outputs": [],
   "source": []
  }
 ],
 "metadata": {
  "kernelspec": {
   "display_name": "Python 2",
   "language": "python",
   "name": "python2"
  },
  "language_info": {
   "codemirror_mode": {
    "name": "ipython",
    "version": 2
   },
   "file_extension": ".py",
   "mimetype": "text/x-python",
   "name": "python",
   "nbconvert_exporter": "python",
   "pygments_lexer": "ipython2",
   "version": "2.7.17"
  }
 },
 "nbformat": 4,
 "nbformat_minor": 2
}
