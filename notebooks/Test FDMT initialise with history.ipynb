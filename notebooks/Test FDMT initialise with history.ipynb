{
 "cells": [
  {
   "cell_type": "code",
   "execution_count": 114,
   "metadata": {},
   "outputs": [
    {
     "name": "stdout",
     "output_type": "stream",
     "text": [
      "Iteration 0 shape= [256   7 263] total elements= 471296\n",
      "Iteration 1 shape= [128  12 268] total elements= 411648\n",
      "Iteration 2 shape= [ 64  23 279] total elements= 410688\n",
      "Iteration 3 shape= [ 32  44 300] total elements= 422400\n",
      "Iteration 4 shape= [ 16  85 341] total elements= 463760\n",
      "Iteration 5 shape= [  8 165 421] total elements= 555720\n",
      "Iteration 6 shape= [  4 317 573] total elements= 726564\n",
      "Iteration 7 shape= [  2 587 843] total elements= 989682\n",
      "Iteration 8 shape= [   1 1024 1280] total elements= 1310720\n",
      "Init history shape (256, 7)\n"
     ]
    }
   ],
   "source": [
    "import numpy as np\n",
    "from pylab import *\n",
    "import fdmt\n",
    "import boxcar\n",
    "import simfrb\n",
    "%matplotlib inline\n",
    "\n",
    "nf = 256 # number of channels - must be a power of 2 currently.\n",
    "fmax = 1448. +0.5#  Freuency of the top of the band in MHz\n",
    "df = 1.0 # Channel bandwidth in MHz\n",
    "fmin = fmax - nf*df # Frequency of the bottom of the band in MHz\n",
    "nd = 1024 # Number of DM trials to do\n",
    "nt = 256 # Number of samples per block\n",
    "tsamp = 1.0 # milliseconds\n",
    "reload(fdmt)\n",
    "thefdmt = fdmt.Fdmt(fmin, df, nf, nd, nt, history_dtype=np.float32) # make FDMT\n",
    "for i, s in enumerate(thefdmt.hist_state_shape):\n",
    "    print 'Iteration', i, 'shape=', s, 'total elements=', s.prod()\n",
    "print 'Init history shape', thefdmt.init_history.shape"
   ]
  },
  {
   "cell_type": "code",
   "execution_count": 115,
   "metadata": {},
   "outputs": [],
   "source": [
    "thefdmt = fdmt.Fdmt(fmin, df, nf, nd, nt, history_dtype=np.float32) # make FDMT\n",
    "ones = np.ones((nf, nt), dtype=np.float32)\n",
    "f1 = thefdmt.initialise(ones)\n",
    "f2 = thefdmt.initialise(ones)\n"
   ]
  },
  {
   "cell_type": "code",
   "execution_count": 116,
   "metadata": {},
   "outputs": [
    {
     "name": "stdout",
     "output_type": "stream",
     "text": [
      "(256, 7, 263)\n"
     ]
    },
    {
     "data": {
      "text/plain": [
       "(0, 10)"
      ]
     },
     "execution_count": 116,
     "metadata": {},
     "output_type": "execute_result"
    },
    {
     "data": {
      "image/png": "[encoded data removed]",
      "text/plain": [
       "<matplotlib.figure.Figure at 0x10c75e290>"
      ]
     },
     "metadata": {},
     "output_type": "display_data"
    }
   ],
   "source": [
    "print(f1.shape)\n",
    "fig, axs = subplots(1,2)\n",
    "_ = axs[0].plot(f1[0, :, :].T)\n",
    "_ = axs[1].plot(f2[0, :, :].T)\n",
    "axs[1].set_xlim(0, 10)\n"
   ]
  },
  {
   "cell_type": "code",
   "execution_count": 117,
   "metadata": {},
   "outputs": [
    {
     "name": "stdout",
     "output_type": "stream",
     "text": [
      "(256, 7, 263)\n",
      "Runs along? False\n"
     ]
    },
    {
     "data": {
      "image/png": "[encoded data removed]",
      "text/plain": [
       "<matplotlib.figure.Figure at 0x10c75e710>"
      ]
     },
     "metadata": {},
     "output_type": "display_data"
    }
   ],
   "source": [
    "thefdmt = fdmt.Fdmt(fmin, df, nf, nd, nt, history_dtype=np.float32) # make FDMT\n",
    "ramp = np.zeros((nf, nt*2), dtype=np.float32)\n",
    "ramp[0, :] = np.arange(nt*2)\n",
    "f1 = thefdmt.initialise(ramp[:, 0:nt])\n",
    "f2 = thefdmt.initialise(ramp[:, nt:2*nt])\n",
    "print(f1.shape)\n",
    "fig, axs = subplots(1,2)\n",
    "_ = axs[0].plot(f1[0, :, :nt].T)\n",
    "_ = axs[1].plot(f2[0, :, :nt].T)\n",
    "axs[0].set_xlim(255-10, 255)\n",
    "axs[0].set_ylim(0, 1800)\n",
    "axs[1].set_xlim(0, 10)\n",
    "axs[1].set_ylim(0,1800)\n",
    "print('Runs along?', np.all(f1[0, :, -1] +1 == f2[0, :, 0]))\n"
   ]
  },
  {
   "cell_type": "code",
   "execution_count": 118,
   "metadata": {},
   "outputs": [
    {
     "name": "stdout",
     "output_type": "stream",
     "text": [
      "(256, 7, 263)\n",
      "[ 255.  509.  762. 1014. 1265. 1515. 1764.]\n",
      "[ 256.  511.  765. 1018. 1270. 1521. 1771.]\n"
     ]
    }
   ],
   "source": [
    "print(f1.shape)\n",
    "print(f1[0, :, nt-1])\n",
    "print(f2[0, :, 0])"
   ]
  },
  {
   "cell_type": "code",
   "execution_count": null,
   "metadata": {},
   "outputs": [],
   "source": []
  },
  {
   "cell_type": "code",
   "execution_count": null,
   "metadata": {},
   "outputs": [],
   "source": []
  },
  {
   "cell_type": "code",
   "execution_count": null,
   "metadata": {},
   "outputs": [],
   "source": []
  },
  {
   "cell_type": "code",
   "execution_count": null,
   "metadata": {},
   "outputs": [],
   "source": []
  }
 ],
 "metadata": {
  "kernelspec": {
   "display_name": "Python 3",
   "language": "python",
   "name": "python3"
  },
  "language_info": {
   "codemirror_mode": {
    "name": "ipython",
    "version": 3
   },
   "file_extension": ".py",
   "mimetype": "text/x-python",
   "name": "python",
   "nbconvert_exporter": "python",
   "pygments_lexer": "ipython3"
  }
 },
 "nbformat": 4,
 "nbformat_minor": 2
}
