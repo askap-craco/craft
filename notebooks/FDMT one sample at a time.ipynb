{
 "cells": [
  {
   "cell_type": "markdown",
   "metadata": {},
   "source": [
    "# Baseline FMDT one sample at a time\n"
   ]
  },
  {
   "cell_type": "code",
   "execution_count": 1,
   "metadata": {},
   "outputs": [
    {
     "ename": "SyntaxError",
     "evalue": "Missing parentheses in call to 'print'. Did you mean print(r.scans[0].polys[0])? (calc11.py, line 229)",
     "output_type": "error",
     "traceback": [
      "Traceback \u001b[0;36m(most recent call last)\u001b[0m:\n",
      "  File \u001b[1;32m\"/Users/den15c/opt/anaconda3/lib/python3.7/site-packages/IPython/core/interactiveshell.py\"\u001b[0m, line \u001b[1;32m3326\u001b[0m, in \u001b[1;35mrun_code\u001b[0m\n    exec(code_obj, self.user_global_ns, self.user_ns)\n",
      "\u001b[0;36m  File \u001b[0;32m\"<ipython-input-1-ed234e30b661>\"\u001b[0;36m, line \u001b[0;32m4\u001b[0;36m, in \u001b[0;35m<module>\u001b[0;36m\u001b[0m\n\u001b[0;31m    import calc11\u001b[0m\n",
      "\u001b[0;36m  File \u001b[0;32m\"/Users/den15c/Programming/craft/python/calc11.py\"\u001b[0;36m, line \u001b[0;32m229\u001b[0m\n\u001b[0;31m    print  r.scans[0].polys[0]\u001b[0m\n\u001b[0m           ^\u001b[0m\n\u001b[0;31mSyntaxError\u001b[0m\u001b[0;31m:\u001b[0m Missing parentheses in call to 'print'. Did you mean print(r.scans[0].polys[0])?\n"
     ]
    }
   ],
   "source": [
    "from pylab import *\n",
    "import matplotlib as mpl\n",
    "import seaborn as sns\n",
    "import calc11\n",
    "import numpy as np\n",
    "from scipy import constants\n",
    "import fdmt # you'll need to have ../python in  you PYTHONPATH\n",
    "from graphviz import Digraph\n",
    "from collections import OrderedDict\n",
    "\n",
    "\n",
    "%matplotlib inline"
   ]
  },
  {
   "cell_type": "code",
   "execution_count": null,
   "metadata": {},
   "outputs": [],
   "source": [
    "fc = 1.12 # center frequency GHz\n",
    "bw = 0.288 # bandwidth GHz\n",
    "Nd = 4 # number of DM trials\n",
    "Nchan= 4\n",
    "Nt = 256 # time block size\n",
    "Tint = 0.864e-3 # integration time - seconds\n",
    "Npol = 2 # input number of polarisations\n",
    "Npix = 256\n",
    "ignore_ant = ['ak31','ak32','ak33','ak34','ak35','ak36']\n",
    "f1 = fc - bw/2.\n",
    "f2 = fc + bw/2.\n",
    "chanbw = 1e-3\n",
    "lam1 = constants.c/f1/1e9\n",
    "lam2 = constants.c/f2/1e9\n",
    "freqs = f1 + np.arange(Nchan)*chanbw\n",
    "lambdas = constants.c / (freqs*1e9)\n",
    "nbytes = 2\n",
    "\n",
    "\n",
    "print lam1, lam2, lambdas.min(), lambdas.max(), freqs.min(), freqs.max()"
   ]
  },
  {
   "cell_type": "code",
   "execution_count": null,
   "metadata": {},
   "outputs": [],
   "source": [
    "thefdmt = fdmt.Fdmt(f1, chanbw, Nchan, Nd, Nt)\n",
    "print(dir(thefdmt))\n"
   ]
  },
  {
   "cell_type": "code",
   "execution_count": 3,
   "metadata": {},
   "outputs": [
    {
     "ename": "SyntaxError",
     "evalue": "invalid syntax (<ipython-input-3-a97c98e522d3>, line 26)",
     "output_type": "error",
     "traceback": [
      "\u001b[0;36m  File \u001b[0;32m\"<ipython-input-3-a97c98e522d3>\"\u001b[0;36m, line \u001b[0;32m26\u001b[0m\n\u001b[0;31m    print 'Iteration {} in={}={} out={}={}'.format(iterno, in_shape, in_shape[0:2].prod(), out_shape, out_shape[:2].prod())\u001b[0m\n\u001b[0m                                          ^\u001b[0m\n\u001b[0;31mSyntaxError\u001b[0m\u001b[0;31m:\u001b[0m invalid syntax\n"
     ]
    }
   ],
   "source": [
    "def fmt(i,c,d):\n",
    "    return 'I{}D{}C{}'.format(i,d,c)\n",
    "\n",
    "maindot = Digraph(comment='FDMT', format='png')\n",
    "all_offsets = []\n",
    "nnodes = 0\n",
    "nplotnodes = 0\n",
    "output_fifo_sizes = {}\n",
    "\n",
    "# make initial nodes\n",
    "ishape = thefdmt.hist_state_shape[0]\n",
    "dot = Digraph(name='cluster_iter0')\n",
    "dot.attr(label='Iteration 0')\n",
    "maindot.subgraph(dot)\n",
    "for c in xrange(ishape[0]):\n",
    "    for d in xrange(ishape[1]):\n",
    "        maindot.node(fmt(0, c, d))\n",
    "        nnodes += 1\n",
    "        nplotnodes += 1\n",
    "\n",
    "        \n",
    "for iterno, nfd in enumerate(thefdmt.hist_nf_data):\n",
    "    out_shape = thefdmt.hist_state_shape[iterno+1]\n",
    "    in_shape = thefdmt.hist_state_shape[iterno]\n",
    "    nchan, ndt, nt_out = out_shape\n",
    "    print 'Iteration {} in={}={} out={}={}'.format(iterno, in_shape, in_shape[0:2].prod(), out_shape, out_shape[:2].prod())\n",
    "    dot = Digraph(name='cluster_iter{}'.format(iterno+1))\n",
    "    dot.attr(label='Iteration {}'.format(iterno+1))\n",
    "    maindot.subgraph(dot)\n",
    "\n",
    "    for ochan in xrange(nchan):\n",
    "        chanconfig = thefdmt.hist_nf_data[iterno][ochan][-1]\n",
    "        #print '\\tOut channel {}'.format(ochan)\n",
    "        last_id1 = -1\n",
    "        last_id2 = -1\n",
    "        for idt, config in enumerate(chanconfig):\n",
    "            _, id1, offset, id2, _, _, _ = config\n",
    "            do_copy = id2 == -1\n",
    "            inchan1 = 2*ochan\n",
    "            inchan2 = inchan1+1\n",
    "            id1_hit = ''\n",
    "            id2_hit = ''\n",
    "            if last_id1 == id1:\n",
    "                id1_hit = '*'\n",
    "            if last_id2 == id2:\n",
    "                id2_hist = '*'\n",
    "            \n",
    "            #print '\\t Out Channel {} idout={} from chan{}/idt{}{} + chan{}/idt{}{} with offset {}' \\\n",
    "            #    .format(ochan, idt, inchan1, id1, id1_hit, inchan2, id2, id2_hit, offset)\n",
    "            \n",
    "            all_offsets.append(offset)\n",
    "            style = 'dashed' if do_copy else 'solid'\n",
    "            nnodes += 1\n",
    "            label = None if offset == 0 else 'd={}'.format(offset)\n",
    "            n1 = fmt(iterno, inchan1, id1)\n",
    "            n2 = fmt(iterno, inchan2, id2)\n",
    "            nout = fmt(iterno+1,ochan, idt)\n",
    "            \n",
    "            # For a given sum - only maintain 1 fifo of the given max length\n",
    "            ff = output_fifo_sizes.get(n2, [])\n",
    "            ff.append(offset)\n",
    "            output_fifo_sizes[n2] = ff\n",
    "            \n",
    "            #addnode = iterno >= 6 and idt > thefdmt.hist_state_shape[iterno+1][1]*0.9\n",
    "            addnode = True\n",
    "            if addnode:\n",
    "                maindot.node(fmt(iterno+1,ochan, idt), style=style)\n",
    "                nplotnodes += 1\n",
    "                maindot.edge(n1, nout)\n",
    "                if not do_copy:\n",
    "                    color = 'black' if offset == 0 else 'red'\n",
    "                    maindot.edge(n2, nout,label=label, color=color)\n",
    "    \n",
    "            last_id1 = id1\n",
    "            last_id2 = id2\n",
    "\n",
    "    \n",
    "nfifo_outputs = {k:max(ff) for k, ff in output_fifo_sizes.iteritems()}\n",
    "bulk_fifo_sizes = {k:min(ff) for k, ff in output_fifo_sizes.iteritems()}\n",
    "fanout_fifo_sizes = {k:max(ff) - min(ff) for k, ff in output_fifo_sizes.iteritems()}\n",
    "\n",
    "print 'Total offsets', sum(all_offsets), 'nfifo outputs', sum(nfifo_outputs.values()), 'largest fifo', max(nfifo_outputs.values()), 'total nodes', nnodes"
   ]
  },
  {
   "cell_type": "code",
   "execution_count": 23,
   "metadata": {},
   "outputs": [
    {
     "name": "stdout",
     "output_type": "stream",
     "text": [
      "nplotnodes 18\n",
      "[0, 1, 1, 0, 1, 1, 0, 1, 1, 2]\n"
     ]
    }
   ],
   "source": [
    "print 'nplotnodes', nplotnodes\n",
    "if nplotnodes < 1200:\n",
    "    maindot.view()\n",
    "    \n",
    "print all_offsets"
   ]
  },
  {
   "cell_type": "code",
   "execution_count": 6,
   "metadata": {
    "scrolled": false
   },
   "outputs": [
    {
     "name": "stdout",
     "output_type": "stream",
     "text": [
      "******** total\n",
      "Total SR entries 7\n",
      "Number of SR length ==0 0\n",
      "Number of SR length ==1 5\n",
      "Number of SR length ==2 1\n",
      "Number of SR length >=1 6\n",
      "Number of SR length <=16 6\n",
      "Number of SR length <=32 6\n",
      "Number of SR length <=64 6\n",
      "Number of SR length >64 0\n",
      "Number of SR length >128 0\n",
      "Number of SR length >256 0\n",
      "Number of SR length >512 0\n",
      "Max SR length 2\n",
      "******** bulk\n",
      "Total SR entries 3\n",
      "Number of SR length ==0 3\n",
      "Number of SR length ==1 3\n",
      "Number of SR length ==2 0\n",
      "Number of SR length >=1 3\n",
      "Number of SR length <=16 6\n",
      "Number of SR length <=32 6\n",
      "Number of SR length <=64 6\n",
      "Number of SR length >64 0\n",
      "Number of SR length >128 0\n",
      "Number of SR length >256 0\n",
      "Number of SR length >512 0\n",
      "Max SR length 1\n",
      "******** fanout\n",
      "Total SR entries 4\n",
      "Number of SR length ==0 2\n",
      "Number of SR length ==1 4\n",
      "Number of SR length ==2 0\n",
      "Number of SR length >=1 4\n",
      "Number of SR length <=16 6\n",
      "Number of SR length <=32 6\n",
      "Number of SR length <=64 6\n",
      "Number of SR length >64 0\n",
      "Number of SR length >128 0\n",
      "Number of SR length >256 0\n",
      "Number of SR length >512 0\n",
      "Max SR length 1\n"
     ]
    },
    {
     "data": {
      "text/plain": [
       "<matplotlib.text.Text at 0x10d69f9d0>"
      ]
     },
     "execution_count": 6,
     "metadata": {},
     "output_type": "execute_result"
    },
    {
     "data": {
      "image/png": "[encoded data removed]",
      "text/plain": [
       "<matplotlib.figure.Figure at 0x10a545e90>"
      ]
     },
     "metadata": {},
     "output_type": "display_data"
    }
   ],
   "source": [
    "\n",
    "total_offsets = np.array(nfifo_outputs.values())\n",
    "bulk_sizes = np.array(bulk_fifo_sizes.values())\n",
    "fanout_sizes = np.array(fanout_fifo_sizes.values())\n",
    "\n",
    "def print_sr_stats(all_offsets):\n",
    "    print 'Total SR entries', sum(all_offsets)\n",
    "    print 'Number of SR length ==0', sum(all_offsets == 0)\n",
    "    print 'Number of SR length ==1', sum(all_offsets == 1)\n",
    "    print 'Number of SR length ==2', sum(all_offsets == 2)\n",
    "    print 'Number of SR length >=1', sum(all_offsets >= 1)\n",
    "    print 'Number of SR length <=16', sum(all_offsets <= 16)\n",
    "    print 'Number of SR length <=32', sum(all_offsets <= 32)\n",
    "    print 'Number of SR length <=64', sum(all_offsets <= 64)\n",
    "    print 'Number of SR length >64', sum(all_offsets >64)\n",
    "    print 'Number of SR length >128', sum(all_offsets >128)\n",
    "    print 'Number of SR length >256', sum(all_offsets >256)\n",
    "    print 'Number of SR length >512', sum(all_offsets >512)\n",
    "\n",
    "    print 'Max SR length', max(all_offsets)\n",
    "\n",
    "print '*'*8, 'total'\n",
    "print_sr_stats(total_offsets)\n",
    "\n",
    "print '*'*8, 'bulk'\n",
    "print_sr_stats(bulk_sizes)\n",
    "\n",
    "print '*'*8, 'fanout'\n",
    "print_sr_stats(fanout_sizes)\n",
    "\n",
    "x = hist(all_offsets, np.arange(0, max(all_offsets), 1), log=True, histtype='step')\n",
    "xlabel('Total shift register size')\n",
    "ylabel('Number of SRs')"
   ]
  },
  {
   "cell_type": "code",
   "execution_count": 7,
   "metadata": {},
   "outputs": [
    {
     "name": "stdout",
     "output_type": "stream",
     "text": [
      "Total offsets 8  total sum operations 10\n"
     ]
    },
    {
     "data": {
      "text/plain": [
       "<matplotlib.text.Text at 0x10a422c10>"
      ]
     },
     "execution_count": 7,
     "metadata": {},
     "output_type": "execute_result"
    },
    {
     "data": {
      "image/png": "[encoded data removed]",
      "text/plain": [
       "<matplotlib.figure.Figure at 0x10a3d25d0>"
      ]
     },
     "metadata": {},
     "output_type": "display_data"
    }
   ],
   "source": [
    "print 'Total offsets', sum(all_offsets), ' total sum operations', len(all_offsets)\n",
    "hist(all_offsets, np.arange(0, max(all_offsets), 1), log=False, cumulative=True, histtype='step')\n",
    "xlabel('FIFO size (elements)')\n",
    "ylabel('Cumulative number of FIFOs')\n",
    "\n",
    "\n",
    "#xlim(0, 50)"
   ]
  },
  {
   "cell_type": "code",
   "execution_count": 8,
   "metadata": {},
   "outputs": [
    {
     "data": {
      "text/plain": [
       "<matplotlib.text.Text at 0x10dc46d90>"
      ]
     },
     "execution_count": 8,
     "metadata": {},
     "output_type": "execute_result"
    },
    {
     "data": {
      "image/png": "[encoded data removed]",
      "text/plain": [
       "<matplotlib.figure.Figure at 0x10dceead0>"
      ]
     },
     "metadata": {},
     "output_type": "display_data"
    }
   ],
   "source": [
    "plot(x[1][0:-1], x[0]*(x[1][0:-1]))\n",
    "xlabel('FIFO size (elements)')\n",
    "ylabel('Total number of elements in fifos of this size')"
   ]
  },
  {
   "cell_type": "code",
   "execution_count": 9,
   "metadata": {},
   "outputs": [
    {
     "data": {
      "text/plain": [
       "<matplotlib.text.Text at 0x10a4864d0>"
      ]
     },
     "execution_count": 9,
     "metadata": {},
     "output_type": "execute_result"
    },
    {
     "data": {
      "image/png": "[encoded data removed]",
      "text/plain": [
       "<matplotlib.figure.Figure at 0x10dbcfb10>"
      ]
     },
     "metadata": {},
     "output_type": "display_data"
    }
   ],
   "source": [
    "plot(x[1][0:-1], np.cumsum(x[0]*(x[1][0:-1])))\n",
    "xlabel('FIFO size (elements)')\n",
    "ylabel('Total number of elements in fifos < this size')"
   ]
  },
  {
   "cell_type": "code",
   "execution_count": 10,
   "metadata": {},
   "outputs": [],
   "source": [
    "num_outputs = [len(ff) for ff in output_fifo_sizes.values()]\n",
    "max_ff_length = [max(ff) for ff in output_fifo_sizes.values()]\n",
    "ff_length_range = [max(ff) - min(ff) for ff in output_fifo_sizes.values()]"
   ]
  },
  {
   "cell_type": "code",
   "execution_count": 11,
   "metadata": {},
   "outputs": [
    {
     "data": {
      "text/plain": [
       "<matplotlib.text.Text at 0x10a321710>"
      ]
     },
     "execution_count": 11,
     "metadata": {},
     "output_type": "execute_result"
    },
    {
     "data": {
      "image/png": "[encoded data removed]",
      "text/plain": [
       "<matplotlib.figure.Figure at 0x10a5ee2d0>"
      ]
     },
     "metadata": {},
     "output_type": "display_data"
    }
   ],
   "source": [
    "hist(num_outputs, np.arange(0, max(num_outputs)+3) - 0.5, log=True)\n",
    "xlabel('Number of FIFO outputs')"
   ]
  },
  {
   "cell_type": "code",
   "execution_count": 12,
   "metadata": {},
   "outputs": [
    {
     "data": {
      "text/plain": [
       "<matplotlib.text.Text at 0x10d792290>"
      ]
     },
     "execution_count": 12,
     "metadata": {},
     "output_type": "execute_result"
    },
    {
     "data": {
      "image/png": "[encoded data removed]",
      "text/plain": [
       "<matplotlib.figure.Figure at 0x10d575790>"
      ]
     },
     "metadata": {},
     "output_type": "display_data"
    }
   ],
   "source": [
    "hist(max_ff_length, np.arange(0, max(max_ff_length)+3) - 0.5, log=True)\n",
    "xlabel('Maximum fifo length')"
   ]
  },
  {
   "cell_type": "code",
   "execution_count": 13,
   "metadata": {},
   "outputs": [
    {
     "data": {
      "text/plain": [
       "<matplotlib.text.Text at 0x10d70e650>"
      ]
     },
     "execution_count": 13,
     "metadata": {},
     "output_type": "execute_result"
    },
    {
     "data": {
      "image/png": "[encoded data removed]",
      "text/plain": [
       "<matplotlib.figure.Figure at 0x10cc6c7d0>"
      ]
     },
     "metadata": {},
     "output_type": "display_data"
    }
   ],
   "source": [
    "hist(ff_length_range, np.arange(0, max(ff_length_range)+3) - 0.5, log=True)\n",
    "xlabel('Number of FIFO taps')"
   ]
  },
  {
   "cell_type": "code",
   "execution_count": 16,
   "metadata": {
    "scrolled": false
   },
   "outputs": [
    {
     "name": "stdout",
     "output_type": "stream",
     "text": [
      "Iteration 1 in=[4 2] size=8 out=[2 3] size=6\n",
      "Iteration 2 in=[2 3] size=6 out=[1 4] size=4\n"
     ]
    }
   ],
   "source": [
    "def make_c_file(thefdmt):\n",
    "    all_offsets = []\n",
    "    output_fifo_sizes = OrderedDict()\n",
    "    # make initial nodes\n",
    "    preamble = '''// \n",
    "// FDMT produced by FDMT one samlpe at a time.ipynb\n",
    "// nd={f.max_dt} nf={f.n_f} fmin={f.f_min} nchan={f.n_f} df={f.d_f} bw={f.bw}\n",
    "//\n",
    "\n",
    "'''.format(f=thefdmt)\n",
    "    ishape = thefdmt.hist_state_shape[0]\n",
    "    read = '// Read inputs\\n'\n",
    "    for c in xrange(ishape[0]):\n",
    "        for d in xrange(ishape[1]):\n",
    "            read += 'fdmt_t {} = in[{}][{}];\\n'.format(fmt(0, c, d), d,c)\n",
    "\n",
    "\n",
    "    queuedecl = '// FIFO declarations\\n\\n'\n",
    "    queuepush = '// FIFO push statements\\n\\n'\n",
    "    do_sums = ''\n",
    "    for iterno, nfd in enumerate(thefdmt.hist_nf_data):\n",
    "        out_shape = thefdmt.hist_state_shape[iterno+1]\n",
    "        in_shape = thefdmt.hist_state_shape[iterno]\n",
    "        nchan, ndt, nt_out = out_shape\n",
    "        print 'Iteration {} in={} size={} out={} size={}'.format(iterno+1, in_shape[0:2], in_shape[0:2].prod(), out_shape[0:2], out_shape[:2].prod())\n",
    "        \n",
    "        do_sums += '\\n\\n// Iteration {} in={} size={} out={} size={} \\n\\n'.format(iterno+1, in_shape, in_shape[0:2].prod(), out_shape, out_shape[:2].prod())\n",
    "        \n",
    "        for ochan in xrange(nchan):\n",
    "            chanconfig = thefdmt.hist_nf_data[iterno][ochan][-1]\n",
    "            #print '\\tOut channel {}'.format(ochan)\n",
    "            last_id1 = -1\n",
    "            last_id2 = -1\n",
    "            \n",
    "            do_sums += '\\n // Output channel {}\\n'.format(ochan)\n",
    "            for idt, config in enumerate(chanconfig):\n",
    "                _, id1, offset, id2, _, _, _ = config\n",
    "                do_copy = id2 == -1\n",
    "                inchan1 = 2*ochan\n",
    "                inchan2 = inchan1+1\n",
    "\n",
    "                #print '\\t Out Channel {} idout={} from chan{}/idt{}{} + chan{}/idt{}{} with offset {}' \\\n",
    "                #    .format(ochan, idt, inchan1, id1, id1_hit, inchan2, id2, id2_hit, offset)\n",
    "\n",
    "                all_offsets.append(offset)\n",
    "\n",
    "                n1 = fmt(iterno, inchan1, id1)\n",
    "                n2 = fmt(iterno, inchan2, id2)\n",
    "                nout = fmt(iterno+1,ochan, idt)\n",
    "                \n",
    "                # For a given sum - only maintain 1 fifo of the given max length\n",
    "                ff = output_fifo_sizes.get(n2, [])\n",
    "                ff.append(offset)\n",
    "                output_fifo_sizes[n2] = ff\n",
    "                \n",
    "                \n",
    "                if do_copy:\n",
    "                    do_sums += 'fdmt_t {} = {};\\n'.format(nout, n1)\n",
    "                else:\n",
    "                    if offset == 0:\n",
    "                        do_sums += 'fdmt_t {} = {} + {};\\n'.format(nout, n1, n2)\n",
    "                    else:\n",
    "                        do_sums += 'fdmt_t {} = {} + {}_fifo.read({});\\n'.format(nout, n1, n2, offset)\n",
    "                        \n",
    "\n",
    "    for infmt, ff_sizes in output_fifo_sizes.iteritems():\n",
    "        queuedecl += 'static fdmt_fifo<{},{}> {}_fifo;\\n'.format(min(ff_sizes), max(ff_sizes), infmt)\n",
    "        queuedecl += '#pragma HLS ARRAY_PARTITION variable={}_fifo dim=1 complete\\n'.format(infmt)\n",
    "\n",
    "        queuepush += '{}_fifo.push({});\\n'.format(infmt, infmt)\n",
    "    \n",
    "    # write outputs\n",
    "    oshape = thefdmt.hist_state_shape[iterno+1]\n",
    "\n",
    "    write = '\\n\\n// Write outputs\\n\\n'\n",
    "    for c in xrange(oshape[0]):\n",
    "        for d in xrange(oshape[1]):\n",
    "            write += 'out[{}] = {};\\n'.format(d, fmt(iterno+1, c, d))\n",
    "\n",
    "                \n",
    "    cfile = preamble + queuedecl + read + do_sums + queuepush + write\n",
    "    \n",
    "    return cfile\n",
    "\n",
    "s = make_c_file(thefdmt)\n",
    "#print s\n",
    "with open('fdmt_d{f.max_dt}_c{f.n_f}_f{f.f_min}.h'.format(f=thefdmt), 'w') as fout:\n",
    "    fout.write(s)\n",
    "    \n",
    "    "
   ]
  },
  {
   "cell_type": "code",
   "execution_count": 37,
   "metadata": {},
   "outputs": [
    {
     "name": "stdout",
     "output_type": "stream",
     "text": [
      "Iteration 1 in=[4 2] size=8 out=[2 3] size=6\n",
      "Iteration 2 in=[2 3] size=6 out=[1 4] size=4\n",
      "// \n",
      "// FDMT produced by FDMT one samlpe at a time.ipynb\n",
      "// nd=4 nf=4 fmin=0.976 nchan=4 df=0.001 bw=0.004\n",
      "//\n",
      "\n",
      "// Iteration 0 shape=[  4   2 258]\n",
      "// Iteration 1 shape=[  2   3 259]\n",
      "// Iteration 2 shape=[  1   4 260]\n",
      "// FIFO declarations\n",
      "\n",
      "static fdmt_t I0D0C0_fifo[1];\n",
      "#pragma HLS ARRAY_PARTITION variable=I0D0C0_fifo dim=1 complete\n",
      "static fdmt_t I0D0C1_fifo[2];\n",
      "#pragma HLS ARRAY_PARTITION variable=I0D0C1_fifo dim=1 complete\n",
      "static fdmt_t I0D1C0_fifo[1];\n",
      "#pragma HLS ARRAY_PARTITION variable=I0D1C0_fifo dim=1 complete\n",
      "static fdmt_t I0D1C1_fifo[2];\n",
      "#pragma HLS ARRAY_PARTITION variable=I0D1C1_fifo dim=1 complete\n",
      "static fdmt_t I0D0C2_fifo[1];\n",
      "#pragma HLS ARRAY_PARTITION variable=I0D0C2_fifo dim=1 complete\n",
      "static fdmt_t I0D0C3_fifo[2];\n",
      "#pragma HLS ARRAY_PARTITION variable=I0D0C3_fifo dim=1 complete\n",
      "static fdmt_t I0D1C2_fifo[1];\n",
      "#pragma HLS ARRAY_PARTITION variable=I0D1C2_fifo dim=1 complete\n",
      "static fdmt_t I0D1C3_fifo[2];\n",
      "#pragma HLS ARRAY_PARTITION variable=I0D1C3_fifo dim=1 complete\n",
      "static fdmt_t I1D0C0_fifo[1];\n",
      "#pragma HLS ARRAY_PARTITION variable=I1D0C0_fifo dim=1 complete\n",
      "static fdmt_t I1D0C1_fifo[2];\n",
      "#pragma HLS ARRAY_PARTITION variable=I1D0C1_fifo dim=1 complete\n",
      "static fdmt_t I1D1C0_fifo[1];\n",
      "#pragma HLS ARRAY_PARTITION variable=I1D1C0_fifo dim=1 complete\n",
      "static fdmt_t I1D1C1_fifo[3];\n",
      "#pragma HLS ARRAY_PARTITION variable=I1D1C1_fifo dim=1 complete\n",
      "static fdmt_t I1D2C0_fifo[1];\n",
      "#pragma HLS ARRAY_PARTITION variable=I1D2C0_fifo dim=1 complete\n",
      "// Giant FIFO array\n",
      "    static fdmt_t* fifos[][] {\n",
      "    \n",
      "    };\n",
      "    I0D0C0_fifo,I0D0C1_fifo,I0D1C0_fifo,I0D1C1_fifo,I0D0C2_fifo,I0D0C3_fifo,I0D1C2_fifo,I0D1C3_fifo,I1D0C0_fifo,I1D0C1_fifo,I1D1C0_fifo,I1D1C1_fifo,I1D2C0_fifo,// Read inputs\n",
      "fdmt_t I0D0C0 = in[0][0];\n",
      "fdmt_t I0D1C0 = in[1][0];\n",
      "fdmt_t I0D0C1 = in[0][1];\n",
      "fdmt_t I0D1C1 = in[1][1];\n",
      "fdmt_t I0D0C2 = in[0][2];\n",
      "fdmt_t I0D1C2 = in[1][2];\n",
      "fdmt_t I0D0C3 = in[0][3];\n",
      "fdmt_t I0D1C3 = in[1][3];\n",
      "\n",
      "\n",
      "// Iteration 1 in=[  4   2 258] size=8 out=[  2   3 259] size=6 \n",
      "\n",
      "\n",
      " // Output channel 0\n",
      "fdmt_t I1D0C0 = I0D0C0 + I0D0C1;\n",
      "fdmt_t I1D1C0 = I0D1C0 + I0D0C1_fifo.read(1);\n",
      "fdmt_t I1D2C0 = I0D1C0 + I0D1C1_fifo.read(1);\n",
      "\n",
      " // Output channel 1\n",
      "fdmt_t I1D0C1 = I0D0C2 + I0D0C3;\n",
      "fdmt_t I1D1C1 = I0D1C2 + I0D0C3_fifo.read(1);\n",
      "fdmt_t I1D2C1 = I0D1C2 + I0D1C3_fifo.read(1);\n",
      "\n",
      "\n",
      "// Iteration 2 in=[  2   3 259] size=6 out=[  1   4 260] size=4 \n",
      "\n",
      "\n",
      " // Output channel 0\n",
      "fdmt_t I2D0C0 = I1D0C0 + I1D0C1;\n",
      "fdmt_t I2D1C0 = I1D1C0 + I1D0C1_fifo.read(1);\n",
      "fdmt_t I2D2C0 = I1D1C0 + I1D1C1_fifo.read(1);\n",
      "fdmt_t I2D3C0 = I1D2C0 + I1D1C1_fifo.read(2);\n",
      "// FIFO push statements\n",
      "\n",
      "I0D0C0_fifo.push(I0D0C0);\n",
      "I0D0C1_fifo.push(I0D0C1);\n",
      "I0D1C0_fifo.push(I0D1C0);\n",
      "I0D1C1_fifo.push(I0D1C1);\n",
      "I0D0C2_fifo.push(I0D0C2);\n",
      "I0D0C3_fifo.push(I0D0C3);\n",
      "I0D1C2_fifo.push(I0D1C2);\n",
      "I0D1C3_fifo.push(I0D1C3);\n",
      "I1D0C0_fifo.push(I1D0C0);\n",
      "I1D0C1_fifo.push(I1D0C1);\n",
      "I1D1C0_fifo.push(I1D1C0);\n",
      "I1D1C1_fifo.push(I1D1C1);\n",
      "I1D2C0_fifo.push(I1D2C0);\n",
      "\n",
      "\n",
      "// Write outputs\n",
      "\n",
      "out[0] = I2D0C0;\n",
      "out[1] = I2D1C0;\n",
      "out[2] = I2D2C0;\n",
      "out[3] = I2D3C0;\n",
      "\n"
     ]
    }
   ],
   "source": [
    "def make_c_file_v2(thefdmt):\n",
    "    all_offsets = []\n",
    "    output_fifo_sizes = OrderedDict()\n",
    "    # make initial nodes\n",
    "    preamble = '''// \n",
    "// FDMT produced by FDMT one samlpe at a time.ipynb\n",
    "// nd={f.max_dt} nf={f.n_f} fmin={f.f_min} nchan={f.n_f} df={f.d_f} bw={f.bw}\n",
    "//\n",
    "\n",
    "'''.format(f=thefdmt)\n",
    "    for iss, ss in enumerate(thefdmt.hist_state_shape):\n",
    "        preamble += '// Iteration {} shape={}\\n'.format(iss, ss)\n",
    "        \n",
    "    ishape = thefdmt.hist_state_shape[0]\n",
    "    read = '// Read inputs\\n'\n",
    "    for c in xrange(ishape[0]):\n",
    "        for d in xrange(ishape[1]):\n",
    "            read += 'fdmt_t {} = in[{}][{}];\\n'.format(fmt(0, c, d), d,c)\n",
    "\n",
    "\n",
    "    queuedecl = '// FIFO declarations\\n\\n'\n",
    "    queuepush = '// FIFO push statements\\n\\n'\n",
    "    queuemake = '''// Giant FIFO array\n",
    "    static fdmt_t* fifos[][] {\n",
    "    \n",
    "    };\n",
    "    '''\n",
    "    do_sums = ''\n",
    "    for iterno, nfd in enumerate(thefdmt.hist_nf_data):\n",
    "        out_shape = thefdmt.hist_state_shape[iterno+1]\n",
    "        in_shape = thefdmt.hist_state_shape[iterno]\n",
    "        nchan, ndt, nt_out = out_shape\n",
    "        print 'Iteration {} in={} size={} out={} size={}'.format(iterno+1, in_shape[0:2], in_shape[0:2].prod(), out_shape[0:2], out_shape[:2].prod())\n",
    "        \n",
    "        do_sums += '\\n\\n// Iteration {} in={} size={} out={} size={} \\n\\n'.format(iterno+1, in_shape, in_shape[0:2].prod(), out_shape, out_shape[:2].prod())\n",
    "        \n",
    "        for ochan in xrange(nchan):\n",
    "            chanconfig = thefdmt.hist_nf_data[iterno][ochan][-1]\n",
    "            #print '\\tOut channel {}'.format(ochan)\n",
    "            last_id1 = -1\n",
    "            last_id2 = -1\n",
    "            \n",
    "            do_sums += '\\n // Output channel {}\\n'.format(ochan)\n",
    "            for idt, config in enumerate(chanconfig):\n",
    "                _, id1, offset, id2, _, _, _ = config\n",
    "                do_copy = id2 == -1\n",
    "                inchan1 = 2*ochan\n",
    "                inchan2 = inchan1+1\n",
    "\n",
    "                #print '\\t Out Channel {} idout={} from chan{}/idt{}{} + chan{}/idt{}{} with offset {}' \\\n",
    "                #    .format(ochan, idt, inchan1, id1, id1_hit, inchan2, id2, id2_hit, offset)\n",
    "\n",
    "                all_offsets.append(offset)\n",
    "\n",
    "                n1 = fmt(iterno, inchan1, id1)\n",
    "                n2 = fmt(iterno, inchan2, id2)\n",
    "                nout = fmt(iterno+1,ochan, idt)\n",
    "                \n",
    "                # For a given sum - only maintain 1 fifo of the given max length\n",
    "                # add a 0 offset for n1 and a offset for n2\n",
    "                ff = output_fifo_sizes.get(n1, [])\n",
    "                ff.append(0)\n",
    "                output_fifo_sizes[n1] = ff\n",
    "                \n",
    "                ff = output_fifo_sizes.get(n2, [])\n",
    "                ff.append(offset)\n",
    "                output_fifo_sizes[n2] = ff \n",
    "                \n",
    "                if do_copy:\n",
    "                    do_sums += 'fdmt_t {} = {};\\n'.format(nout, n1)\n",
    "                else:\n",
    "                    if offset == 0:\n",
    "                        do_sums += 'fdmt_t {} = {} + {};\\n'.format(nout, n1, n2)\n",
    "                    else:\n",
    "                        do_sums += 'fdmt_t {} = {} + {}_fifo.read({});\\n'.format(nout, n1, n2, offset)\n",
    "                        \n",
    "\n",
    "    for infmt, ff_sizes in output_fifo_sizes.iteritems():\n",
    "        #queuedecl += 'static fdmt_fifo<{},{}> {}_fifo;\\n'.format(min(ff_sizes), max(ff_sizes), infmt)\n",
    "        queuedecl += 'static fdmt_t {}_fifo[{}];\\n'.format(infmt, max(ff_sizes)+1)\n",
    "        queuedecl += '#pragma HLS ARRAY_PARTITION variable={}_fifo dim=1 complete\\n'.format(infmt)\n",
    "        queuepush += '{}_fifo.push({});\\n'.format(infmt, infmt)\n",
    "        queuemake += '{}_fifo,'.format(infmt)\n",
    "    \n",
    "    # write outputs\n",
    "    oshape = thefdmt.hist_state_shape[iterno+1]\n",
    "\n",
    "    write = '\\n\\n// Write outputs\\n\\n'\n",
    "    for c in xrange(oshape[0]):\n",
    "        for d in xrange(oshape[1]):\n",
    "            write += 'out[{}] = {};\\n'.format(d, fmt(iterno+1, c, d))\n",
    "\n",
    "                \n",
    "    cfile = preamble + queuedecl + queuemake +  read + do_sums + queuepush + write\n",
    "    \n",
    "    return cfile\n",
    "\n",
    "s = make_c_file_v2(thefdmt)\n",
    "print s\n",
    "with open('fdmt_d{f.max_dt}_c{f.n_f}_f{f.f_min}.h'.format(f=thefdmt), 'w') as fout:\n",
    "    fout.write(s)\n",
    "    "
   ]
  },
  {
   "cell_type": "code",
   "execution_count": null,
   "metadata": {},
   "outputs": [],
   "source": []
  },
  {
   "cell_type": "code",
   "execution_count": null,
   "metadata": {},
   "outputs": [],
   "source": []
  }
 ],
 "metadata": {
  "kernelspec": {
   "display_name": "Python 3",
   "language": "python",
   "name": "python3"
  },
  "language_info": {
   "codemirror_mode": {
    "name": "ipython",
    "version": 3
   },
   "file_extension": ".py",
   "mimetype": "text/x-python",
   "name": "python",
   "nbconvert_exporter": "python",
   "pygments_lexer": "ipython3",
   "version": "3.7.4"
  }
 },
 "nbformat": 4,
 "nbformat_minor": 2
}
