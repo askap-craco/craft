{
 "cells": [
  {
   "cell_type": "code",
   "execution_count": 16,
   "metadata": {
    "collapsed": true
   },
   "outputs": [],
   "source": [
    "%matplotlib inline\n",
    "import numpy as np\n",
    "import pylab"
   ]
  },
  {
   "cell_type": "code",
   "execution_count": 179,
   "metadata": {
    "collapsed": false
   },
   "outputs": [],
   "source": [
    "fin = 'test.cand'\n",
    "d = np.loadtxt(fin)\n",
    "d[:, 1] -= d[0, 1]\n",
    "dnew = np.array([d[:, 0], d[:, 1], d[:, 1], d[:, 1], d[:, 2], d[:, 3], d[:, 4], d[:, 4], d[:, 4], d[:, 5], d[:, 6], np.ones(d.shape[0])]).T\n",
    "dorig = dnew.copy()\n",
    "\n",
    "class MyValues(object):\n",
    "    def __init__(self):\n",
    "        self.tdist = 4\n",
    "        self.ddist = 4\n",
    "    \n",
    "values = MyValues()"
   ]
  },
  {
   "cell_type": "code",
   "execution_count": 180,
   "metadata": {
    "collapsed": true
   },
   "outputs": [],
   "source": [
    "def errplot(alldarr, **kwargs):\n",
    "    alldarr = np.array(alldarr)\n",
    "    xerr = np.array([-alldarr[:, 2] + alldarr[:, 1], alldarr[:, 3] - alldarr[:, 1]])\n",
    "    yerr = np.array([alldarr[:, 6] - alldarr[:, 7] , alldarr[:, 8] - alldarr[:, 6]])\n",
    "    pylab.errorbar(alldarr[:, 1], alldarr[:, 6], xerr=xerr, yerr=yerr, ls='none', **kwargs)"
   ]
  },
  {
   "cell_type": "code",
   "execution_count": 181,
   "metadata": {
    "collapsed": true
   },
   "outputs": [],
   "source": [
    "def fof(d, values):\n",
    "    alld = []\n",
    "    last_numd = d.shape[0]\n",
    "    print('Initial size', last_numd)\n",
    "    old_d = d.copy()\n",
    "    iteration = 1\n",
    "    while True:\n",
    "        bestd, drest = fof_iter(d, values)\n",
    "        alld.append(bestd)\n",
    "\n",
    "        d = drest\n",
    "        print('new size', drest.shape[0])\n",
    "        if drest.shape[0] == 0:\n",
    "            \n",
    "            pylab.scatter(old_d[:, 1], old_d[:, 6], marker='x')\n",
    "            pylab.title('Iteration %d' % iteration)\n",
    "            pylab.savefig('Iteration%d.png'%iteration)\n",
    "            iteration += 1\n",
    "\n",
    "            d = np.array(alld)\n",
    "            if d.shape[0] == last_numd:\n",
    "                print('Terminating', d.shape)\n",
    "                break\n",
    "\n",
    "            last_numd = d.shape[0]\n",
    "            old_d = d.copy()\n",
    "            alld = []\n",
    "            print('New iteration. Best size', last_numd)\n",
    "\n",
    "    pylab.show()\n",
    "\n",
    "    return d\n",
    "    "
   ]
  },
  {
   "cell_type": "code",
   "execution_count": 182,
   "metadata": {
    "collapsed": true
   },
   "outputs": [],
   "source": [
    "def find_friends_mask(myd, d, values):\n",
    "    mysn, mysamp, mysamp1, mysamp2, myt, mybc, myidt, myidt1, myidt2, mydm, mybeam, mcount = myd\n",
    "    assert mysamp1 <= mysamp <= mysamp2\n",
    "    assert myidt1 <= myidt <= myidt2\n",
    "    tmask1 = mysamp1 - values.tdist <= d[:, 3]\n",
    "    tmask2 = mysamp2 + values.tdist >= d[:, 2]\n",
    "\n",
    "    dmask1 = myidt1 - values.ddist <= d[:, 8]\n",
    "    dmask2 = myidt2 + values.ddist >= d[:, 7]\n",
    "    \n",
    "    tmask = tmask1 & tmask2\n",
    "    dmask = dmask1 & dmask2\n",
    "    fullmask= tmask & dmask\n",
    "    return fullmask"
   ]
  },
  {
   "cell_type": "code",
   "execution_count": 183,
   "metadata": {
    "collapsed": true
   },
   "outputs": [],
   "source": [
    "def fof_iter(d, values):\n",
    "    myd = d[0, :]\n",
    "    fullmask = find_friends_mask(myd, d, values)\n",
    "    related = d[fullmask, :]\n",
    "\n",
    "    assert related.shape[0] != 0\n",
    "\n",
    "    if related.shape[0] == 1: # we're the only thing nearby\n",
    "        best_d = myd\n",
    "    else: # update points we ate\n",
    "        best_idx = np.argmax(related[:, 0])\n",
    "        best_d = related[best_idx, :]\n",
    "        \n",
    "        best_d[2] = np.min(related[:, 2])\n",
    "        best_d[3] = np.max(related[:, 3])\n",
    "        \n",
    "        best_d[7] = np.min(related[:, 7])\n",
    "        best_d[8] = np.max(related[:, 8])\n",
    "        best_d[11] += related.shape[0]\n",
    "        #print 'BEST', best_d\n",
    "        #print 'related', related.shape, related\n",
    "\n",
    "        assert best_d[7] <= best_d[6] <= best_d[8] \n",
    "        assert best_d[2] <= best_d[1] <= best_d[3]\n",
    "\n",
    "\n",
    "\n",
    "    return best_d, d[~fullmask, :]"
   ]
  },
  {
   "cell_type": "code",
   "execution_count": 184,
   "metadata": {
    "collapsed": false
   },
   "outputs": [
    {
     "data": {
      "image/png": "[encoded data removed]",
      "text/plain": [
       "<matplotlib.figure.Figure at 0x10ae7a2d0>"
      ]
     },
     "metadata": {},
     "output_type": "display_data"
    }
   ],
   "source": [
    "errplot(dnew)"
   ]
  },
  {
   "cell_type": "code",
   "execution_count": 185,
   "metadata": {
    "collapsed": true
   },
   "outputs": [],
   "source": [
    "d = dnew"
   ]
  },
  {
   "cell_type": "code",
   "execution_count": 205,
   "metadata": {
    "collapsed": false
   },
   "outputs": [
    {
     "data": {
      "image/png": "[encoded data removed]",
      "text/plain": [
       "<matplotlib.figure.Figure at 0x10abf1690>"
      ]
     },
     "metadata": {},
     "output_type": "display_data"
    }
   ],
   "source": [
    "myd = d[0, :]\n",
    "fullmask = find_friends_mask(myd, d, values)\n",
    "errplot(d[:, :], c='blue', marker='x')\n",
    "#errplot(d[tmask, :], c='green', marker='s')\n",
    "errplot(d[fullmask, :], c='orange', marker='*')\n",
    "errplot([myd], c='red', marker='o')\n"
   ]
  },
  {
   "cell_type": "code",
   "execution_count": 198,
   "metadata": {
    "collapsed": true
   },
   "outputs": [],
   "source": [
    "drest = d\n",
    "allbest = []"
   ]
  },
  {
   "cell_type": "code",
   "execution_count": 219,
   "metadata": {
    "collapsed": false
   },
   "outputs": [
    {
     "data": {
      "image/png": "[encoded data removed]",
      "text/plain": [
       "<matplotlib.figure.Figure at 0x109d669d0>"
      ]
     },
     "metadata": {},
     "output_type": "display_data"
    }
   ],
   "source": [
    "bestd, drest = fof_iter(drest, values)\n",
    "allbest.append(bestd)\n",
    "errplot(dorig, marker='x')\n",
    "errplot([bestd], marker='x', c='red')\n",
    "errplot(drest, marker='s', c='green', alpha=0.4)\n",
    "errplot(allbest, marker='o', c='red')"
   ]
  },
  {
   "cell_type": "code",
   "execution_count": 214,
   "metadata": {
    "collapsed": false
   },
   "outputs": [],
   "source": [
    "drest = np.array(allbest)\n",
    "allbest = []"
   ]
  },
  {
   "cell_type": "code",
   "execution_count": 220,
   "metadata": {
    "collapsed": true
   },
   "outputs": [],
   "source": [
    "d = np.loadtxt(fin)\n",
    "\n"
   ]
  },
  {
   "cell_type": "code",
   "execution_count": 224,
   "metadata": {
    "collapsed": false
   },
   "outputs": [
    {
     "name": "stdout",
     "output_type": "stream",
     "text": [
      "(99, 7)\n",
      "(99,)\n"
     ]
    }
   ],
   "source": [
    "print(d.shape)\n",
    "print(d[:, 0].shape)"
   ]
  },
  {
   "cell_type": "code",
   "execution_count": 235,
   "metadata": {
    "collapsed": false
   },
   "outputs": [
    {
     "data": {
      "text/plain": [
       "(99, 7)"
      ]
     },
     "execution_count": 235,
     "metadata": {},
     "output_type": "execute_result"
    }
   ],
   "source": [
    "np.concatenate((d, d[:, 0:0]), axis=1).shape"
   ]
  },
  {
   "cell_type": "code",
   "execution_count": null,
   "metadata": {
    "collapsed": true
   },
   "outputs": [],
   "source": []
  }
 ],
 "metadata": {
  "kernelspec": {
   "display_name": "Python 3",
   "language": "python",
   "name": "python3"
  },
  "language_info": {
   "codemirror_mode": {
    "name": "ipython",
    "version": 3
   },
   "file_extension": ".py",
   "mimetype": "text/x-python",
   "name": "python",
   "nbconvert_exporter": "python",
   "pygments_lexer": "ipython3"
  }
 },
 "nbformat": 4,
 "nbformat_minor": 1
}
