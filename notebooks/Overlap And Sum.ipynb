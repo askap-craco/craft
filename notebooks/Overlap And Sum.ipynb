{
 "cells": [
  {
   "cell_type": "markdown",
   "metadata": {},
   "source": [
    "# Testing of overlap and sum\n",
    "Processing for FRB searches is usually in blocks. We consider the problem of an FRB that starts in one block and finishes in a different block and develop the overlap-and-sum routine to handle this.\n"
   ]
  },
  {
   "cell_type": "code",
   "execution_count": null,
   "metadata": {},
   "outputs": [],
   "source": [
    "%matplotlib inline\n",
    "import numpy as np\n",
    "import fdmt # you'll need to have ../python in  you PYTHONPATH\n",
    "from pylab import *\n",
    "import simfrb # in same directory as fdmt\n",
    "reload(fdmt)"
   ]
  },
  {
   "cell_type": "code",
   "execution_count": null,
   "metadata": {},
   "outputs": [],
   "source": [
    "# Define some constants and make an FDMT\n",
    "nf = 256 # number of channels - must be a power of 2 currently.\n",
    "fmax = 1440. #  Freuency of the top of the band in MHz\n",
    "df = 1.0 # Channel bandwidth in MHz\n",
    "fmin = fmax - nf*df # Frequency of the bottom of the band in MHz\n",
    "nd = 1024 # Number of DM trials to do\n",
    "nt = 256 # Number of samples per block\n",
    "tsamp = 1.0 # milliseconds\n",
    "thefdmt = fdmt.Fdmt( fmin, df, nf, nd, nt) # make FDMT"
   ]
  },
  {
   "cell_type": "code",
   "execution_count": null,
   "metadata": {},
   "outputs": [],
   "source": [
    "# utility function:\n",
    "def printmax(fout):\n",
    "    maxidx = fout.argmax()\n",
    "    idtmax, tmax = np.unravel_index(maxidx, fout.shape)\n",
    "    vmax = fout[idtmax, tmax]\n",
    "    print \"Maximum of %f at idt=%d t=%d\" % (vmax, idtmax, tmax)\n",
    "    \n",
    "    return (vmax, idtmax, tmax)\n",
    "\n",
    "def plot_blocks(blocks, title, mask_zero=False, **kwargs):\n",
    "    nblocks = len(blocks)\n",
    "    fig, ax = subplots(1, nblocks, figsize=(10, 7))\n",
    "    \n",
    "    for b in xrange(nblocks):\n",
    "        ax[b].set_title('{} {}'.format(title, b))\n",
    "        ax[b].set_xlabel('t')\n",
    "        if mask_zero:\n",
    "            d = np.ma.masked_equal(blocks[b], 0)\n",
    "        else:\n",
    "            d = blocks[b]\n",
    "        ax[b].imshow(d, aspect='auto', origin='lower', **kwargs)\n",
    "        \n",
    "    ax[0].set_ylabel('IDT')\n"
   ]
  },
  {
   "cell_type": "code",
   "execution_count": null,
   "metadata": {},
   "outputs": [],
   "source": [
    "# Caution: The DM units here are in pc/cm3 and the DM units the FDMT uses are in samples. at about 1 GHz and 1 ms these are almost identical.\n",
    "# We make an long FRB and chop it in half\n",
    "dm_pccc = 300.31 # DM in pc/cc\n",
    "dm_idt = 4.15*dm_pccc*((fmin/1e3)**-2 - (fmax/1e3)**-2)/tsamp # convert dm to idt\n",
    "frb = simfrb.mkfrb(fmax/1e3, -df/1e3, nf, tsamp=tsamp, dm=dm_pccc, ntimes=nt*2, offset=150).T\n",
    "frb = np.flipud(frb)\n",
    "print 'shape={} sum={} DM ={} pc/cc = {} samples'.format(frb.shape, frb.sum(), dm_pccc, dm_idt)\n",
    "imshow(frb, aspect='auto', origin='lower')\n",
    "xlabel('Sample number')\n",
    "ylabel('Channel')"
   ]
  },
  {
   "cell_type": "code",
   "execution_count": null,
   "metadata": {},
   "outputs": [],
   "source": [
    "# now chop the FRB into 2 pieces:\n",
    "block1 = frb[:, 0:nt]\n",
    "block2 = frb[:, nt:2*nt]\n",
    "plot_blocks([block1, block2], \"FRB\")"
   ]
  },
  {
   "cell_type": "code",
   "execution_count": null,
   "metadata": {},
   "outputs": [],
   "source": [
    "# Let's put each block through the FDMT\n",
    "f1 = thefdmt(block1)\n",
    "f2 = thefdmt(block2)\n",
    "print \"block 1\"\n",
    "printmax(f1)\n",
    "print \"block 2\"\n",
    "printmax(f2)\n",
    "plot_blocks([f1, f2], 'FDMT')"
   ]
  },
  {
   "cell_type": "markdown",
   "metadata": {},
   "source": [
    "OK so you can see in the first block does the dedispersion and (except for some error - needing a bit of attention later) - there's a peak in both blocks at idt=288. In the first block t=436, and the second at t=181. Recall that the FDMT time (t) is with reference to the time that the FRB goes through the final channel. In this case, the fact that the first block has the FRB arriving at t=436, is saying 436 samples from the beginning of block 1. If the block size is 256, then we'd expec to see the FRB arriving at t=436-256 = 180 samples into block 2 which is (roughly) where we see it arriving. So now what we need is for the for an overlap and sum operation to take in blocks of data and keep the output as required."
   ]
  },
  {
   "cell_type": "code",
   "execution_count": null,
   "metadata": {},
   "outputs": [],
   "source": [
    "# spelled out here for teaching purposes, but also implemented in fdmt.OverlapAndSum \n",
    "class OverlapAndSum(object):\n",
    "    def __init__(self, nd, nt, dtype=None):\n",
    "        self.nd = nd\n",
    "        self.nt = nt\n",
    "        assert nd > 0\n",
    "        assert nt > 0\n",
    "        assert nd >= nt\n",
    "        assert nd % nt == 0, 'Block size needs to divide into number of dispersion trials'\n",
    "        self.history = np.zeros((nd, nd + nt), dtype)\n",
    "        \n",
    "    def process(self, block):\n",
    "        nd, nt = self.nd, self.nt\n",
    "        assert block.shape == (nd, nd+nt), 'Invalid block shape {}'.format(block.shape)\n",
    "        \n",
    "        # Update history - left most (lowest time index values) get updated to the previous history\n",
    "        # shifted by nt and we add in the input block\n",
    "        self.history[:, 0:nd] = self.history[:, nt:nd+nt] + block[:, 0:nd]\n",
    "        \n",
    "        # for times > nd, we just copy the input block in - we have nothign to add to it\n",
    "        # We'll explicit with the slice boundaries here, for clarity\n",
    "        self.history[:, nd:nd+nt] = block[:, nd:nd+nt]\n",
    "        \n",
    "        # THe output block is the first nt samples of the history\n",
    "        output = self.history[:, 0:nt]\n",
    "        \n",
    "        return output\n",
    "    \n",
    "\n",
    "    def __call__(self, block):\n",
    "        return self.process(block)\n",
    "        "
   ]
  },
  {
   "cell_type": "code",
   "execution_count": null,
   "metadata": {},
   "outputs": [],
   "source": [
    "osum = OverlapAndSum(nd, nt)\n",
    "\n",
    "# Let's put each block through the overlap and sum\n",
    "# We're making copies because internally OverlapAndSum returns views\n",
    "of1 = osum(f1).copy() \n",
    "state1 = osum.history.copy()\n",
    "of2 = osum(f2).copy() \n",
    "state2 = osum.history.copy()\n",
    "print \"block 1\", state1.shape, of1.shape\n",
    "printmax(of1)\n",
    "print \"block 2\", state2.shape, of2.shape\n",
    "printmax(of2)\n",
    "\n",
    "plot_blocks([state1, state2], \"History\")\n",
    "\n",
    "# note how the FRB moves through the left of the history "
   ]
  },
  {
   "cell_type": "code",
   "execution_count": null,
   "metadata": {},
   "outputs": [],
   "source": [
    "plot_blocks([of1, of2], \"output\")"
   ]
  },
  {
   "cell_type": "code",
   "execution_count": null,
   "metadata": {},
   "outputs": [],
   "source": [
    "# So how well did we do? We should have the peak in output 2 should equal the sum of the peaks in the 2 inputs, and\n",
    "# also equal to the sum over the FRB.\n",
    "print 'peak={:0.1f} f1max={:0.1f} f2max={:0.1f} peak/(f1+f2)={:0.1f} peak/sum(frb)={:0.2f}'.format(of2.max(),\n",
    "                                                                          f1.max(), \\\n",
    "                                                                          f2.max(), of2.max()/(f1.max() + f2.max()), \\\n",
    "                                                                          of2.max()/(frb.sum())\n",
    "                                                                         )"
   ]
  },
  {
   "cell_type": "code",
   "execution_count": null,
   "metadata": {},
   "outputs": [],
   "source": [
    "# So we got to 84% hitting efficiency - which is more about the FDMT than the overlap and sum."
   ]
  },
  {
   "cell_type": "markdown",
   "metadata": {},
   "source": [
    "# For a giggle, this is what it looks like for a very long FRB\n",
    "Note how for the middle blocks, the FRB neither starts or finishes in that block"
   ]
  },
  {
   "cell_type": "code",
   "execution_count": null,
   "metadata": {},
   "outputs": [],
   "source": [
    "nt = 128\n",
    "dm_pccc = 300.31 # DM in pc/cc\n",
    "dm_idt = 4.15*dm_pccc*((fmin/1e3)**-2 - (fmax/1e3)**-2)/tsamp # convert dm to idt\n",
    "frb = simfrb.mkfrb(fmax/1e3, -df/1e3, nf, tsamp=tsamp, dm=dm_pccc, ntimes=int(dm_idt)+2*nt, offset=150).T\n",
    "frb = np.flipud(frb)\n",
    "print 'shape={} sum={} DM ={} pc/cc = {} samples'.format(frb.shape, frb.sum(), dm_pccc, dm_idt)\n",
    "imshow(frb, aspect='auto', origin='lower')\n",
    "xlabel('Sample number')\n",
    "ylabel('Channel')"
   ]
  },
  {
   "cell_type": "code",
   "execution_count": null,
   "metadata": {},
   "outputs": [],
   "source": [
    "nblocks = frb.shape[1]/nt\n",
    "blocks = [frb[:, b*nt:(b+1)*nt] for b in xrange(nblocks)]\n",
    "plot_blocks(blocks, \"FRB\")\n"
   ]
  },
  {
   "cell_type": "code",
   "execution_count": null,
   "metadata": {},
   "outputs": [],
   "source": [
    "thefdmt = fdmt.Fdmt( fmin, df, nf, nd, nt) # make FDMT\n",
    "osum = OverlapAndSum(nd, nt)\n",
    "all_output = []\n",
    "all_history = []\n",
    "for b in xrange(nblocks):\n",
    "    blk = blocks[b]\n",
    "    fout = thefdmt(blk)\n",
    "    osumout = osum(fout).copy()\n",
    "    hist = osum.history.copy()\n",
    "    all_output.append(osumout)\n",
    "    all_history.append(hist)"
   ]
  },
  {
   "cell_type": "code",
   "execution_count": null,
   "metadata": {},
   "outputs": [],
   "source": [
    "plot_blocks(all_history, \"History\")"
   ]
  },
  {
   "cell_type": "code",
   "execution_count": null,
   "metadata": {},
   "outputs": [],
   "source": [
    "plot_blocks(all_output, \"Output\")"
   ]
  },
  {
   "cell_type": "markdown",
   "metadata": {},
   "source": [
    "# Saving flops/memory\n",
    "Similarly to the FDMT, the OverlapAndSum buffer isn't fully used - about half of it is always zeros. This can be seen if we do the FDMT of ones and show you what the history looks like"
   ]
  },
  {
   "cell_type": "code",
   "execution_count": null,
   "metadata": {},
   "outputs": [],
   "source": [
    "frb = np.ones((nf, nd+nt))\n",
    "nblocks = frb.shape[1]/nt\n",
    "blocks = [frb[:, b*nt:(b+1)*nt] for b in xrange(nblocks)]\n",
    "thefdmt = fdmt.Fdmt( fmin, df, nf, nd, nt) # make FDMT\n",
    "osum = OverlapAndSum(nd, nt)\n",
    "all_output = []\n",
    "all_history = []\n",
    "for b in xrange(nblocks):\n",
    "    blk = blocks[b]\n",
    "    fout = thefdmt(blk)\n",
    "    osumout = osum(fout).copy()\n",
    "    hist = osum.history.copy()\n",
    "    all_output.append(osumout)\n",
    "    all_history.append(hist)\n",
    "\n",
    "vmax = np.array(all_history).max()\n"
   ]
  },
  {
   "cell_type": "code",
   "execution_count": null,
   "metadata": {},
   "outputs": [],
   "source": [
    "plot_blocks(all_history, \"History\", mask_zero=True, vmin=0, vmax=vmax)"
   ]
  },
  {
   "cell_type": "markdown",
   "metadata": {},
   "source": [
    "That white bit that's all zeros isn't ever used by the overlap and sum - clever indexing of the history and input arrays should be able to save flos/memory by a factor of 2x"
   ]
  },
  {
   "cell_type": "code",
   "execution_count": null,
   "metadata": {},
   "outputs": [],
   "source": []
  }
 ],
 "metadata": {
  "kernelspec": {
   "display_name": "Python 2",
   "language": "python",
   "name": "python2"
  },
  "language_info": {
   "codemirror_mode": {
    "name": "ipython",
    "version": 2
   },
   "file_extension": ".py",
   "mimetype": "text/x-python",
   "name": "python",
   "nbconvert_exporter": "python",
   "pygments_lexer": "ipython2",
   "version": "2.7.13"
  }
 },
 "nbformat": 4,
 "nbformat_minor": 2
}
