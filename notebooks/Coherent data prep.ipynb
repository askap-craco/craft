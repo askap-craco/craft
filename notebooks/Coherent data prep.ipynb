{
 "cells": [
  {
   "cell_type": "markdown",
   "metadata": {},
   "source": [
    "# Preparing data for the coherent pipeline\n",
    "A few steps need to be done on the data before it can be used, namely:\n",
    "- Take the average over the block - used for later analysis on the CPU\n",
    "- Multiply the input data the calibration coefficients\n",
    "- Subtract the continuum\n",
    "- Sum the 2 polarisations\n",
    "\n",
    "These are pretty simple. We write the code down here but also do it coherentprep.py\n",
    "\n",
    "Note: The ordering in memory is not yet decided - there are all sorts of possibilities that we haven't explored yet. it's quite possible hardware gives us ordering that's really weird.\n",
    "\n",
    "For the sake of this notebook, we put things in (baseline, channel, polarisation, time) order (time going fastest). But as I said, it might well change. The prepare step may well need to do a tranpose or re-ordering of the data on the way through."
   ]
  },
  {
   "cell_type": "code",
   "execution_count": 2,
   "metadata": {},
   "outputs": [],
   "source": [
    "%matplotlib inline\n",
    "import numpy as np\n",
    "from pylab import *\n"
   ]
  },
  {
   "cell_type": "code",
   "execution_count": 16,
   "metadata": {},
   "outputs": [
    {
     "name": "stdout",
     "output_type": "stream",
     "text": [
      "input shape=(435, 288, 2, 256) size=513.14688 Mbytes\n"
     ]
    }
   ],
   "source": [
    "# Telescope information - more or less fixed\n",
    "nchan = 288 # number of channels \n",
    "nant = 30# number of antennas\n",
    "nbl = nant*(nant-1)/2 # number of baselines\n",
    "npol = 2 # number of polariosations\n",
    "nt = 256 # Number of samples per block\n",
    "inshape = (nbl, nchan, npol, nt)\n",
    "dtype = np.dtype('complex64')\n",
    "\n",
    "print('input shape={} size={} Mbytes'.format(inshape, np.prod(inshape)*dtype.itemsize/1e6))\n"
   ]
  },
  {
   "cell_type": "code",
   "execution_count": 8,
   "metadata": {},
   "outputs": [],
   "source": [
    "def complex_randn(shape, dtype):\n",
    "    dout = (np.random.randn(*shape) + 1j*np.random.randn(*shape)).astype(dtype)\n",
    "    return dout"
   ]
  },
  {
   "cell_type": "code",
   "execution_count": 33,
   "metadata": {},
   "outputs": [],
   "source": [
    "# These data come in from the CPU - note the shapes and type is complex\n",
    "calibration_data = np.ones((nbl, nchan, npol), dtype=dtype) # all 1 by defult\n",
    "sky_model = np.zeros((nbl, nchan, npol), dtype=dtype) # 0 by default - polarised sky model\n",
    "input_data = complex_randn((nbl, nchan, npol, nt), dtype) # make it random for now.\n"
   ]
  },
  {
   "cell_type": "code",
   "execution_count": 47,
   "metadata": {},
   "outputs": [],
   "source": [
    "def do_prepare(input_data, calibration_data, sky_model):\n",
    "    # make output data using numpy broadcasting rules - it's easy to read by doesn't really explain \n",
    "    # wht's going on under the hood, but you get the idea\n",
    "    output_data = input_data * calibration_data[:,:,:,None] - sky_model[:,:,:,None]\n",
    "    \n",
    "    # now do the polarisation sum\n",
    "    output_data = output_data.sum(axis=2)\n",
    "\n",
    "    # average for cpu - just keep this. Something will copy it back to the CPU when the kernel is finished\n",
    "    block_average = input_data.mean(axis=3)\n",
    "    \n",
    "    return (output_data, block_average)"
   ]
  },
  {
   "cell_type": "code",
   "execution_count": 35,
   "metadata": {},
   "outputs": [],
   "source": [
    "dout, davg = do_prepare(input_data, calibration_data, sky_model)\n",
    "assert dout.shape == (nbl, nchan, nt)\n",
    "assert davg.shape == (nbl, nchan, npol)"
   ]
  },
  {
   "cell_type": "code",
   "execution_count": 37,
   "metadata": {},
   "outputs": [
    {
     "name": "stdout",
     "output_type": "stream",
     "text": [
      "1 loop, best of 3: 984 ms per loop\n"
     ]
    }
   ],
   "source": [
    "%timeit  do_prepare(input_data, calibration_data, sky_model)"
   ]
  },
  {
   "cell_type": "code",
   "execution_count": 48,
   "metadata": {},
   "outputs": [],
   "source": [
    "# This spelled-out look explains the guts of what's going on in more detail.\n",
    "# It might even go faster too with numba.jit\n",
    "\n",
    "from numba import jit\n",
    "@jit(nopython=True)\n",
    "def do_prepare_numba(input_data, calibration_data, sky_model, output_data, block_average):\n",
    "    # make output data using numpy broadcasting rules - cheating slightly, but you get the idea\n",
    "    nbl, nchan, npol, nt = input_data.shape\n",
    "    for ibl in xrange(nbl):\n",
    "        for ichan in xrange(nchan):\n",
    "            for ipol in xrange(npol):\n",
    "                for it in xrange(nt):\n",
    "                    d = input_data[ibl, ichan, ipol, it] # read input sample\n",
    "                    \n",
    "                    # Output is the sum over polarisations after applying the calibration and subtracting the sky model\n",
    "                    # Note these are complex multiplications and sums\n",
    "                    output_data[ibl, ichan, it] += d * calibration_data[ibl, ichan, ipol] - sky_model[ibl, ichan, ipol ]\n",
    "                    \n",
    "                    # block average is the average over all times\n",
    "                    block_average[ibl, ichan, ipol] += d\n",
    "    \n",
    "    return (output_data, block_average)"
   ]
  },
  {
   "cell_type": "code",
   "execution_count": 46,
   "metadata": {},
   "outputs": [
    {
     "name": "stdout",
     "output_type": "stream",
     "text": [
      "1 loop, best of 3: 235 ms per loop\n"
     ]
    }
   ],
   "source": [
    "dout *= 0\n",
    "davg *= 0\n",
    "%timeit do_prepare_numba(input_data, calibration_data, sky_model, dout, davg)"
   ]
  },
  {
   "cell_type": "code",
   "execution_count": 44,
   "metadata": {},
   "outputs": [],
   "source": [
    "# Wow - numba is 5x faster than naked numpy"
   ]
  },
  {
   "cell_type": "code",
   "execution_count": 52,
   "metadata": {},
   "outputs": [],
   "source": [
    "# here it is with the code \n",
    "import coherentprep\n",
    "reload(coherentprep)\n",
    "prep = coherentprep.Prepare(nt, calibration_data, sky_model)\n",
    "dout = prep(input_data)"
   ]
  },
  {
   "cell_type": "code",
   "execution_count": null,
   "metadata": {},
   "outputs": [],
   "source": []
  }
 ],
 "metadata": {
  "kernelspec": {
   "display_name": "Python 2",
   "language": "python",
   "name": "python2"
  },
  "language_info": {
   "codemirror_mode": {
    "name": "ipython",
    "version": 2
   },
   "file_extension": ".py",
   "mimetype": "text/x-python",
   "name": "python",
   "nbconvert_exporter": "python",
   "pygments_lexer": "ipython2",
   "version": "2.7.13"
  }
 },
 "nbformat": 4,
 "nbformat_minor": 2
}
