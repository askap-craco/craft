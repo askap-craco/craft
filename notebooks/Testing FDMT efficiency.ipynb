{
 "cells": [
  {
   "cell_type": "markdown",
   "metadata": {},
   "source": [
    "# FDMT efficiency\n",
    "The current FDMT seems to be a bit inefficient - i.e. we do the FDMT of a pulse and the peak in the FDMT should be the sum of the pulse - and it's not. Worrying."
   ]
  },
  {
   "cell_type": "code",
   "execution_count": 36,
   "metadata": {},
   "outputs": [
    {
     "name": "stdout",
     "output_type": "stream",
     "text": [
      "The autoreload extension is already loaded. To reload it, use:\n",
      "  %reload_ext autoreload\n"
     ]
    }
   ],
   "source": [
    "%matplotlib inline\n",
    "%load_ext autoreload\n",
    "%autoreload 2\n",
    "import numpy as np\n",
    "import fdmt # you'll need to have ../python in  you PYTHONPATH\n",
    "import simfrb # in same directory as fdmt\n",
    "from pylab import *"
   ]
  },
  {
   "cell_type": "code",
   "execution_count": 215,
   "metadata": {},
   "outputs": [],
   "source": [
    "nf = 256 # number of channels - non-power-of-2 - naughty naughty!\n",
    "fmax = 1440. #  Freuency of the top of the band in MHz\n",
    "df = 1.0 # Channel bandwidth in MHz\n",
    "fmin = fmax - nf*df # Frequency of the bottom of the band in MHz\n",
    "nd = 512 # Number of DM trials to do\n",
    "nt = 512 # Number of samples per block\n",
    "tsamp = 1.0 # milliseconds"
   ]
  },
  {
   "cell_type": "code",
   "execution_count": 216,
   "metadata": {},
   "outputs": [],
   "source": [
    "def mysimfrb(fmin, df, nf, tsamp, idt, nt, offset, width=0):\n",
    "    assert df > 0\n",
    "    assert nf > 0\n",
    "    assert fmin > 0\n",
    "    d = np.zeros((nf, nt))\n",
    "    fmax = fmin + nf*df\n",
    "    fmin /= 1e3\n",
    "    fmax /= 1e3\n",
    "    df /= 1e3\n",
    "    dm1 = 4.15*(fmin**-2 - fmax**-2)\n",
    "    dm = idt*tsamp/dm1\n",
    "    \n",
    "    assert dm1> 0\n",
    "    \n",
    "    for c in xrange(nf):\n",
    "        f2 = fmin + c*df       \n",
    "        offset_ms = -4.15*dm*(fmax**-2 - f2**-2) + offset\n",
    "        offset_samp = int(np.round(offset_ms/tsamp)) \n",
    "        #print c, f2, fmax, offset_ms, offset_samp\n",
    "        d[c, offset_samp] = 1\n",
    "    return d"
   ]
  },
  {
   "cell_type": "code",
   "execution_count": 217,
   "metadata": {},
   "outputs": [
    {
     "data": {
      "text/plain": [
       "(0, 20.0)"
      ]
     },
     "execution_count": 217,
     "metadata": {},
     "output_type": "execute_result"
    },
    {
     "data": {
      "image/png": "[encoded data removed]",
      "text/plain": [
       "<matplotlib.figure.Figure at 0x11fd7ef90>"
      ]
     },
     "metadata": {},
     "output_type": "display_data"
    }
   ],
   "source": [
    "frb1 = mysimfrb(fmin, df, nf, tsamp, 7, nt, offset=10)\n",
    "frb2 = mysimfrb(fmin, df, nf, tsamp, 7, nt, offset=10.5)\n",
    "\n",
    "fig, ax = subplots(1,2)\n",
    "ax[0].imshow(frb1, aspect='auto', origin='lower', interpolation='nearest')\n",
    "ax[0].set_xlim(0,20.)\n",
    "\n",
    "ax[1].imshow(frb2, aspect='auto', origin='lower', interpolation='nearest')\n",
    "ax[1].set_xlim(0,20.)"
   ]
  },
  {
   "cell_type": "code",
   "execution_count": 218,
   "metadata": {},
   "outputs": [],
   "source": [
    "def checkhit(thefdmt, dm, offset=0):\n",
    "    # I haven't had time to tidy this up - the untis are funny and the FRB is updside down and transposed\n",
    "    # With respect to what the FDMT wants to see - just trust me OK.\n",
    "    # Caution: The DM units here are in pc/cm3 and the DM units the FDMT uses are in samples. at about 1 GHz and 1 ms these are almost identical.\n",
    "    #frb = simfrb.mkfrb(fmax/1e3, -df/1e3, nf, tsamp=tsamp, dm=dm, ntimes=nt, offset=10).T\n",
    "    #frb = np.flipud(frb)\n",
    "    frb = mysimfrb(fmin, df, nf, tsamp, dm, nt, offset=offset)\n",
    "    fout = thefdmt(frb)\n",
    "    hitting_efficiency = fout.max()/frb.sum() # should be close to 1. Ideally 1.\n",
    "    maxidx = fout.argmax()\n",
    "    idtmax, tmax = np.unravel_index(maxidx, fout.shape)\n",
    "    dm_of_idt = idtmax*tsamp/(4.15*((fmin/1e3)**-2 - (fmax/1e3)**-2)) # convert idt to pc/cm3\n",
    "    #print 'Hitting efficiency', hitting_efficiency, 'Maximum at t=', tmax, 'idt=', idtmax, '=', dm_of_idt, 'pc/cm3'\n",
    "    \n",
    "    return (hitting_efficiency, idtmax, tmax)"
   ]
  },
  {
   "cell_type": "code",
   "execution_count": 222,
   "metadata": {},
   "outputs": [],
   "source": [
    "thefdmt = fdmt.Fdmt( fmin, df, nf, nd, nt) # make FDMT\n",
    "dmrange = np.arange(0, 300, 10)\n",
    "hitdata = []\n",
    "for dm in dmrange:\n",
    "    hitdata.append(checkhit(thefdmt, dm, offset=10))\n",
    "    \n",
    "hitdata = np.array(hitdata)        "
   ]
  },
  {
   "cell_type": "code",
   "execution_count": 223,
   "metadata": {},
   "outputs": [
    {
     "data": {
      "text/plain": [
       "(30, 3)"
      ]
     },
     "execution_count": 223,
     "metadata": {},
     "output_type": "execute_result"
    }
   ],
   "source": [
    "hitdata.shape"
   ]
  },
  {
   "cell_type": "code",
   "execution_count": 224,
   "metadata": {},
   "outputs": [
    {
     "data": {
      "text/plain": [
       "<matplotlib.text.Text at 0x120538610>"
      ]
     },
     "execution_count": 224,
     "metadata": {},
     "output_type": "execute_result"
    },
    {
     "data": {
      "image/png": "[encoded data removed]",
      "text/plain": [
       "<matplotlib.figure.Figure at 0x120052890>"
      ]
     },
     "metadata": {},
     "output_type": "display_data"
    }
   ],
   "source": [
    "fig, ax = subplots(1,3, sharex=True)\n",
    "ax[0].plot(dmrange, hitdata[:, 0], 'o')\n",
    "ax[0].set_ylabel('Hitting efficiency ')\n",
    "ax[1].plot(dmrange, hitdata[:, 1], 'o')\n",
    "ax[1].set_ylabel('IDT max')\n",
    "ax[2].plot(dmrange, hitdata[:, 2] - hitdata[:, 1], 'o')\n",
    "ax[2].set_ylabel('tmax')"
   ]
  },
  {
   "cell_type": "code",
   "execution_count": 198,
   "metadata": {},
   "outputs": [],
   "source": [
    "dm = 7\n",
    "frb = mysimfrb(fmin, df, nf, tsamp, dm, nt, offset=10)\n",
    "fout = thefdmt(frb)"
   ]
  },
  {
   "cell_type": "code",
   "execution_count": 199,
   "metadata": {},
   "outputs": [
    {
     "data": {
      "text/plain": [
       "<matplotlib.image.AxesImage at 0x11dd8b590>"
      ]
     },
     "execution_count": 199,
     "metadata": {},
     "output_type": "execute_result"
    },
    {
     "data": {
      "image/png": "[encoded data removed]",
      "text/plain": [
       "<matplotlib.figure.Figure at 0x11dac3ad0>"
      ]
     },
     "metadata": {},
     "output_type": "display_data"
    }
   ],
   "source": [
    "imshow(fout, aspect='auto', origin='lower')"
   ]
  },
  {
   "cell_type": "code",
   "execution_count": 200,
   "metadata": {},
   "outputs": [
    {
     "data": {
      "text/plain": [
       "<matplotlib.text.Text at 0x11d8860d0>"
      ]
     },
     "execution_count": 200,
     "metadata": {},
     "output_type": "execute_result"
    },
    {
     "data": {
      "image/png": "[encoded data removed]",
      "text/plain": [
       "<matplotlib.figure.Figure at 0x11dd9c550>"
      ]
     },
     "metadata": {},
     "output_type": "display_data"
    }
   ],
   "source": [
    "plot(fout.max(axis=1)/frb.sum())\n",
    "xlabel('IDT')"
   ]
  },
  {
   "cell_type": "code",
   "execution_count": 201,
   "metadata": {},
   "outputs": [
    {
     "data": {
      "text/plain": [
       "256.0"
      ]
     },
     "execution_count": 201,
     "metadata": {},
     "output_type": "execute_result"
    }
   ],
   "source": [
    "frb.sum()"
   ]
  },
  {
   "cell_type": "code",
   "execution_count": null,
   "metadata": {},
   "outputs": [],
   "source": []
  }
 ],
 "metadata": {
  "kernelspec": {
   "display_name": "Python 2",
   "language": "python",
   "name": "python2"
  },
  "language_info": {
   "codemirror_mode": {
    "name": "ipython",
    "version": 2
   },
   "file_extension": ".py",
   "mimetype": "text/x-python",
   "name": "python",
   "nbconvert_exporter": "python",
   "pygments_lexer": "ipython2",
   "version": "2.7.13"
  }
 },
 "nbformat": 4,
 "nbformat_minor": 2
}
