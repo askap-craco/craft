{
 "cells": [
  {
   "cell_type": "markdown",
   "metadata": {},
   "source": [
    "# Short dynamic baselien FDMT\n",
    "\n",
    "OK - this is it kids. The final one. We just have to get this to work.\n",
    "requirement: 16 samples/clkc = 512 bits/clk x 200 MHz.\n",
    "- Key ideas: Only do 6 iterations\n",
    "- FIFOS as BRAM/URAM.\n",
    "- Calculate id1, id2, offset dynamicallly\n",
    "- Use PIPO between iterations - 6x16 BRAM = 10% of BRAMS? Probably makes it easier."
   ]
  },
  {
   "cell_type": "code",
   "execution_count": 1,
   "metadata": {},
   "outputs": [],
   "source": [
    "from pylab import *\n",
    "import matplotlib as mpl\n",
    "import seaborn as sns\n",
    "import numpy as np\n",
    "from scipy import constants\n",
    "import fdmt # you'll need to have ../python in  you PYTHONPATH\n",
    "\n",
    "%matplotlib inline"
   ]
  },
  {
   "cell_type": "code",
   "execution_count": 2,
   "metadata": {},
   "outputs": [
    {
     "name": "stdout",
     "output_type": "stream",
     "text": [
      "0.402946852151 0.290496567829 0.29081358845640837 0.40294685215053766 0.744 1.030875\n",
      "iter 0 shape [256   8 128]\n",
      "iter 1 shape [128  14 142]\n",
      "iter 2 shape [ 64  27 155]\n",
      "iter 3 shape [ 32  52 180]\n",
      "iter 4 shape [ 16 101 229]\n",
      "iter 5 shape [  8 194 322]\n",
      "iter 6 shape [  4 362 490]\n",
      "iter 7 shape [  2 638 766]\n",
      "iter 8 shape [   1 1024 1152]\n"
     ]
    }
   ],
   "source": [
    "fc = 0.888 # center frequency GHz\n",
    "bw = 0.288 # bandwidth GHz\n",
    "Nd = 1024 # number of DM trials\n",
    "Nt = 128 # time block size\n",
    "Nb = 4 # bytes per complex sample. 4 = fp16 complex\n",
    "Tint = 864e-6 # integration time - seconds\n",
    "Nchan= 256\n",
    "Npol = 2 # input number of polarisations\n",
    "Npix = 256\n",
    "Nuv = 6000\n",
    "ignore_ant = ['ak31','ak32','ak33','ak34','ak35','ak36']\n",
    "f1 = fc - bw/2.\n",
    "f2 = fc + bw/2.\n",
    "chanbw = float(bw)/float(Nchan)\n",
    "lam1 = constants.c/f1/1e9\n",
    "lam2 = constants.c/f2/1e9\n",
    "freqs = f1 + np.arange(Nchan)*chanbw\n",
    "lambdas = constants.c / (freqs*1e9)\n",
    "nbytes = 2\n",
    "\n",
    "print(lam1, lam2, lambdas.min(), lambdas.max(), freqs.min(), freqs.max())\n",
    "thefdmt = fdmt.Fdmt(f1, chanbw, Nchan, Nd, Nt)\n",
    "for iterno, s in enumerate(thefdmt.hist_state_shape):\n",
    "    print('iter', iterno, 'shape', s)"
   ]
  },
  {
   "cell_type": "code",
   "execution_count": null,
   "metadata": {},
   "outputs": [],
   "source": []
  },
  {
   "cell_type": "code",
   "execution_count": null,
   "metadata": {},
   "outputs": [],
   "source": []
  }
 ],
 "metadata": {
  "kernelspec": {
   "display_name": "Python 3",
   "language": "python",
   "name": "python3"
  },
  "language_info": {
   "codemirror_mode": {
    "name": "ipython",
    "version": 3
   },
   "file_extension": ".py",
   "mimetype": "text/x-python",
   "name": "python",
   "nbconvert_exporter": "python",
   "pygments_lexer": "ipython3"
  }
 },
 "nbformat": 4,
 "nbformat_minor": 2
}
