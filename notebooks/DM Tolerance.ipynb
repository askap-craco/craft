{
 "cells": [
  {
   "cell_type": "markdown",
   "metadata": {},
   "source": [
    "# DM Tolerance\n",
    "\n",
    "Message from shivani\n",
    "\n",
    "```\n",
    "Data file                        : test1.fil\n",
    "Header size (bytes)              : 401\n",
    "Data size (bytes)                : 5505024\n",
    "Data type                        : filterbank (topocentric)\n",
    "Telescope                        : GMRT\n",
    "Datataking Machine               : FAKE\n",
    "Source Name                      : None\n",
    "Source RA (J2000)                : 21:57:51.6\n",
    "Source DEC (J2000)               : -01:17:09.4\n",
    "Frequency of channel 1 (MHz)     : 1464.000000\n",
    "Channel bandwidth      (MHz)     : -1.000000\n",
    "Number of channels               : 336\n",
    "Number of beams                  : 0\n",
    "Beam number                      : 0\n",
    "Time stamp of first sample (MJD) : 58002.546799638658\n",
    "Gregorian date (YYYY/MM/DD)      : 2017/09/06\n",
    "Sample time (us)                 : 1266.46875\n",
    "Number of samples                : 16384\n",
    "Observation length (seconds)     : 20.7\n",
    "Number of bits per sample        : 8\n",
    "Number of IFs                    : 1\n",
    "```\n",
    "\n",
    "\n",
    "I ran dedisperse_all for a DM range of 0 to 5000 and dm tol ranging from 1% to 50%. Column 1 is number of DM trials and Column 2 is dm$tol_value.log\n",
    "```\n",
    "2163 dm1.01.log\n",
    "1497 dm1.02.log\n",
    "1210 dm1.03.log\n",
    "1041 dm1.04.log\n",
    "926 dm1.05.log\n",
    "842 dm1.06.log\n",
    "776 dm1.07.log\n",
    "723 dm1.08.log\n",
    "680 dm1.09.log\n",
    "643 dm1.10.log\n",
    "611 dm1.11.log\n",
    "584 dm1.12.log\n",
    "559 dm1.13.log\n",
    "537 dm1.14.log\n",
    "518 dm1.15.log\n",
    "500 dm1.16.log\n",
    "484 dm1.17.log\n",
    "469 dm1.18.log\n",
    "456 dm1.19.log\n",
    "443 dm1.20.log\n",
    "432 dm1.21.log\n",
    "421 dm1.22.log\n",
    "410 dm1.23.log\n",
    "401 dm1.24.log\n",
    "392 dm1.25.log\n",
    "384 dm1.26.log\n",
    "376 dm1.27.log\n",
    "368 dm1.28.log\n",
    "361 dm1.29.log\n",
    "354 dm1.30.log\n",
    "348 dm1.31.log\n",
    "341 dm1.32.log\n",
    "336 dm1.33.log\n",
    "330 dm1.34.log\n",
    "324 dm1.35.log\n",
    "319 dm1.36.log\n",
    "314 dm1.37.log\n",
    "310 dm1.38.log\n",
    "305 dm1.39.log\n",
    "301 dm1.40.log\n",
    "296 dm1.41.log\n",
    "292 dm1.42.log\n",
    "288 dm1.43.log\n",
    "284 dm1.44.log\n",
    "281 dm1.45.log\n",
    "277 dm1.46.log\n",
    "274 dm1.47.log\n",
    "270 dm1.48.log\n",
    "267 dm1.49.log\n",
    "264 dm1.50.log\n",
    "```\n",
    "\n",
    "Note that a tol value of 1.01 means 1% sacrifice in S/N and 1.50 is 50%"
   ]
  },
  {
   "cell_type": "code",
   "execution_count": 10,
   "metadata": {},
   "outputs": [],
   "source": [
    "from pylab import *\n",
    "import matplotlib as mpl\n",
    "import seaborn as sns\n",
    "import numpy as np\n",
    "\n",
    "%matplotlib inline"
   ]
  },
  {
   "cell_type": "code",
   "execution_count": 21,
   "metadata": {},
   "outputs": [],
   "source": [
    "s = '''\n",
    "7911 dm1.001.log\n",
    "2163 dm1.01.log\n",
    "1497 dm1.02.log\n",
    "1210 dm1.03.log\n",
    "1041 dm1.04.log\n",
    "926 dm1.05.log\n",
    "842 dm1.06.log\n",
    "776 dm1.07.log\n",
    "723 dm1.08.log\n",
    "680 dm1.09.log\n",
    "643 dm1.10.log\n",
    "611 dm1.11.log\n",
    "584 dm1.12.log\n",
    "559 dm1.13.log\n",
    "537 dm1.14.log\n",
    "518 dm1.15.log\n",
    "500 dm1.16.log\n",
    "484 dm1.17.log\n",
    "469 dm1.18.log\n",
    "456 dm1.19.log\n",
    "443 dm1.20.log\n",
    "432 dm1.21.log\n",
    "421 dm1.22.log\n",
    "410 dm1.23.log\n",
    "401 dm1.24.log\n",
    "392 dm1.25.log\n",
    "384 dm1.26.log\n",
    "376 dm1.27.log\n",
    "368 dm1.28.log\n",
    "361 dm1.29.log\n",
    "354 dm1.30.log\n",
    "348 dm1.31.log\n",
    "341 dm1.32.log\n",
    "336 dm1.33.log\n",
    "330 dm1.34.log\n",
    "324 dm1.35.log\n",
    "319 dm1.36.log\n",
    "314 dm1.37.log\n",
    "310 dm1.38.log\n",
    "305 dm1.39.log\n",
    "301 dm1.40.log\n",
    "296 dm1.41.log\n",
    "292 dm1.42.log\n",
    "288 dm1.43.log\n",
    "284 dm1.44.log\n",
    "281 dm1.45.log\n",
    "277 dm1.46.log\n",
    "274 dm1.47.log\n",
    "270 dm1.48.log\n",
    "267 dm1.49.log\n",
    "264 dm1.50.log\n",
    "'''"
   ]
  },
  {
   "cell_type": "code",
   "execution_count": 22,
   "metadata": {},
   "outputs": [],
   "source": [
    "d = []\n",
    "for line in s.split('\\n'):\n",
    "    if line == '':\n",
    "        continue\n",
    "    \n",
    "    ndm, x = line.split()\n",
    "    dmtol = float(x.replace('dm','').replace('.log',''))\n",
    "    d.append((float(ndm), dmtol))\n",
    "d = np.array(d)\n"
   ]
  },
  {
   "cell_type": "code",
   "execution_count": 47,
   "metadata": {},
   "outputs": [
    {
     "name": "stdout",
     "output_type": "stream",
     "text": [
      "f1 1.464 bw 0.336 f2 1.128 tsamp 1.266 dmres 0.955238212186 maxdm 5000 ndm 5234.29646785\n"
     ]
    }
   ],
   "source": [
    "f1=1.464 # GHz\n",
    "bw = 0.336 # GHz\n",
    "f2 = f1 - bw\n",
    "\n",
    "tsamp = 1.266 # Millseconds\n",
    "dmres = tsamp/4.15/(f2**-2 - f1**-2) #pc/cc\n",
    "maxdm = 5000 # pc/cc\n",
    "ndm = maxdm/dmres # number of trials\n",
    "\n",
    "print 'f1', f1, 'bw', bw, 'f2', f2, 'tsamp', tsamp, 'dmres', dmres, 'maxdm', maxdm, 'ndm', ndm"
   ]
  },
  {
   "cell_type": "code",
   "execution_count": 48,
   "metadata": {},
   "outputs": [
    {
     "data": {
      "text/plain": [
       "<matplotlib.legend.Legend at 0x118107e10>"
      ]
     },
     "execution_count": 48,
     "metadata": {},
     "output_type": "execute_result"
    },
    {
     "data": {
      "image/png": "[encoded data removed]",
      "text/plain": [
       "<matplotlib.figure.Figure at 0x117fcf150>"
      ]
     },
     "metadata": {},
     "output_type": "display_data"
    }
   ],
   "source": [
    "\n",
    "loglog((d[:, 1] - 1), d[:, 0]/ndm, label='{f1:0.3f}-{f2:0.3f} GHz @{tsamp:0.3f}ms'.format(**locals()))\n",
    "xlabel('S/N loss')\n",
    "ylabel('Fraction of DMs')\n",
    "title('Max DM={maxdm:0.0f} pc/cc'.format(**locals()))\n",
    "legend()"
   ]
  },
  {
   "cell_type": "code",
   "execution_count": 32,
   "metadata": {},
   "outputs": [
    {
     "name": "stdout",
     "output_type": "stream",
     "text": [
      "f1 1.464 bw 0.336 f2 1.128 tsamp 1.266 dmres 0.955238212186 maxdm 5000 ndm 5234.29646785\n"
     ]
    }
   ],
   "source": []
  },
  {
   "cell_type": "code",
   "execution_count": null,
   "metadata": {},
   "outputs": [],
   "source": []
  }
 ],
 "metadata": {
  "kernelspec": {
   "display_name": "Python 2",
   "language": "python",
   "name": "python2"
  },
  "language_info": {
   "codemirror_mode": {
    "name": "ipython",
    "version": 2
   },
   "file_extension": ".py",
   "mimetype": "text/x-python",
   "name": "python",
   "nbconvert_exporter": "python",
   "pygments_lexer": "ipython2",
   "version": "2.7.17"
  }
 },
 "nbformat": 4,
 "nbformat_minor": 2
}
