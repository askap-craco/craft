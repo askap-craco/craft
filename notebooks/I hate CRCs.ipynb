{
 "cells": [
  {
   "cell_type": "code",
   "execution_count": 1,
   "metadata": {},
   "outputs": [],
   "source": [
    "# CRCs - I hate them\n"
   ]
  },
  {
   "cell_type": "code",
   "execution_count": 4,
   "metadata": {},
   "outputs": [],
   "source": [
    "crc32_poly = 0x04C11DB7\n",
    "crc32_init = 0xffffffff"
   ]
  },
  {
   "cell_type": "code",
   "execution_count": 16,
   "metadata": {},
   "outputs": [],
   "source": [
    "def crcword1(w):\n",
    "    crc = crc32_init ^ w\n",
    "    for i in range(32):\n",
    "        bit0 = crc & 0x8000000\n",
    "        if bit0 != 0:\n",
    "            crc = crc ^ crc32_poly\n",
    "        \n",
    "        crc <<= 1\n",
    "        crc &= 0xffffffff\n",
    "        \n",
    "    print(hex(w), 'crc=', hex(crc))\n",
    "    return crc\n",
    "\n",
    "def crcword2(w):\n",
    "    crc = crc32_init\n",
    "    for i in range(32):\n",
    "        bit0 = (crc >> 31) & ((w >> i) & 0x1)\n",
    "        if bit0 != 0:\n",
    "            crc = crc ^ crc32_poly\n",
    "        \n",
    "        crc <<= 1\n",
    "        crc &= 0xffffffff\n",
    "        \n",
    "    print(hex(w), 'crc=', hex(crc))\n",
    "    return crc\n",
    "\n",
    "\n"
   ]
  },
  {
   "cell_type": "code",
   "execution_count": 18,
   "metadata": {},
   "outputs": [
    {
     "name": "stdout",
     "output_type": "stream",
     "text": [
      "0x12345678 crc= 0xfd7f631a\n",
      "0x78563412 crc= 0xcffa1c28\n"
     ]
    },
    {
     "data": {
      "text/plain": [
       "3489274920"
      ]
     },
     "execution_count": 18,
     "metadata": {},
     "output_type": "execute_result"
    }
   ],
   "source": [
    "crcword1(0x12345678)\n",
    "crcword2(0x78563412)\n"
   ]
  },
  {
   "cell_type": "code",
   "execution_count": 19,
   "metadata": {},
   "outputs": [
    {
     "data": {
      "text/plain": [
       "'0x84a49f15'"
      ]
     },
     "execution_count": 19,
     "metadata": {},
     "output_type": "execute_result"
    }
   ],
   "source": [
    "hex(0x54bb8cce ^ 0xd01f13db)"
   ]
  },
  {
   "cell_type": "code",
   "execution_count": 20,
   "metadata": {},
   "outputs": [
    {
     "data": {
      "text/plain": [
       "'0xd01f13db'"
      ]
     },
     "execution_count": 20,
     "metadata": {},
     "output_type": "execute_result"
    }
   ],
   "source": [
    "hex(0x54bb8cce^0x84a49f15)\n"
   ]
  },
  {
   "cell_type": "code",
   "execution_count": null,
   "metadata": {},
   "outputs": [],
   "source": []
  }
 ],
 "metadata": {
  "kernelspec": {
   "display_name": "Python 3",
   "language": "python",
   "name": "python3"
  },
  "language_info": {
   "codemirror_mode": {
    "name": "ipython",
    "version": 3
   },
   "file_extension": ".py",
   "mimetype": "text/x-python",
   "name": "python",
   "nbconvert_exporter": "python",
   "pygments_lexer": "ipython3",
   "version": "3.7.3"
  }
 },
 "nbformat": 4,
 "nbformat_minor": 2
}
