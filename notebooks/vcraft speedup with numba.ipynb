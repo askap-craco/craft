{
 "cells": [
  {
   "cell_type": "code",
   "execution_count": 9,
   "metadata": {},
   "outputs": [],
   "source": [
    "from pylab import *\n",
    "import numpy as np\n",
    "import numba"
   ]
  },
  {
   "cell_type": "code",
   "execution_count": 18,
   "metadata": {},
   "outputs": [],
   "source": [
    "def unpack_mode2(dwords, d):\n",
    "    for samp in xrange(4):\n",
    "        # convert from 4-bit two's complement to int8\n",
    "        d[samp::4, :, 0] = (dwords & 0xf) - (dwords & 0x8)*2 # real\n",
    "        dwords >>= 4\n",
    "        d[samp::4, :, 1] = (dwords & 0xf) - (dwords & 0x8)*2 # imag\n",
    "        dwords >>= 4\n",
    "        \n",
    "    return d\n",
    "    \n",
    "    \n",
    "@numba.jit(nopython=True)\n",
    "def unpack_mode2_jit(dwords, d):\n",
    "    for samp in xrange(4):\n",
    "        # convert from 4-bit two's complement to int8\n",
    "        d[samp::4, :, 0] = (dwords & 0xf) - (dwords & 0x8)*2 # real\n",
    "        dwords >>= 4 # numba doesn't support this - so it fails.\n",
    "        d[samp::4, :, 1] = (dwords & 0xf) - (dwords & 0x8)*2 # imag\n",
    "        dwords >>= 4\n",
    "        \n",
    "    return d \n",
    "\n",
    "@numba.jit(nopython=True)\n",
    "def unpack_mode2_jit_v2(dwords, d):\n",
    "    (nsampwords, nchan) = dwords.shape\n",
    "    for s in xrange(nsampwords):\n",
    "        for c in xrange(nchan):\n",
    "            word = dwords[s, c]\n",
    "            for samp in xrange(4):\n",
    "                d[4*s + samp, c, 0] = (word & 0xf) - (word & 0x8)*2 # real\n",
    "                word >>= 4\n",
    "                d[4*s + samp, c, 1] = (word & 0xf) - (word & 0x8)*2 # imag\n",
    "                word >>= 4\n",
    "    return d\n",
    "\n",
    "\n",
    "        \n",
    "        \n"
   ]
  },
  {
   "cell_type": "code",
   "execution_count": 19,
   "metadata": {},
   "outputs": [],
   "source": [
    "mode = 2\n",
    "nchan = 8 # number of channels\n",
    "nsamps = 4096 # number of time samples\n",
    "nbits = 8 # bits per sample\n",
    "nwords = nsamps*nchan * nbits / 32 # number of 32 bit words\n",
    "dwords = np.arange(nwords, dtype=np.uint32)\n",
    "dwords=np.random.randint(1<<31, size=nwords, dtype=np.uint32)\n",
    "dwords.shape = (nsamps*nbits/32, nchan)\n",
    "d = np.empty((nsamps, nchan, 2), dtype=np.int8)\n"
   ]
  },
  {
   "cell_type": "code",
   "execution_count": 20,
   "metadata": {},
   "outputs": [
    {
     "name": "stdout",
     "output_type": "stream",
     "text": [
      "1000 loops, best of 3: 304 µs per loop\n"
     ]
    }
   ],
   "source": [
    "din = dwords.copy()\n",
    "%timeit unpack_mode2(din, d)"
   ]
  },
  {
   "cell_type": "code",
   "execution_count": 21,
   "metadata": {},
   "outputs": [
    {
     "name": "stdout",
     "output_type": "stream",
     "text": [
      "10000 loops, best of 3: 40.5 µs per loop\n"
     ]
    }
   ],
   "source": [
    "din = dwords.copy()\n",
    "%timeit  unpck_mode2_jit_v2(din, d)"
   ]
  },
  {
   "cell_type": "code",
   "execution_count": 22,
   "metadata": {},
   "outputs": [
    {
     "data": {
      "text/plain": [
       "True"
      ]
     },
     "execution_count": 22,
     "metadata": {},
     "output_type": "execute_result"
    }
   ],
   "source": [
    "res1 = unpack_mode2(dwords.copy(), d)\n",
    "res2 = unpack_mode2_jit_v2(dwords.copy(), d)\n",
    "np.all(res1 == res2)\n"
   ]
  },
  {
   "cell_type": "code",
   "execution_count": 23,
   "metadata": {},
   "outputs": [
    {
     "name": "stdout",
     "output_type": "stream",
     "text": [
      "[[[-5 -4]\n",
      "  [ 7 -4]\n",
      "  [ 5 -3]\n",
      "  ...\n",
      "  [-6 -6]\n",
      "  [ 6  6]\n",
      "  [-2 -8]]\n",
      "\n",
      " [[-6 -3]\n",
      "  [-8  7]\n",
      "  [ 3  5]\n",
      "  ...\n",
      "  [ 6  3]\n",
      "  [ 4 -2]\n",
      "  [ 4 -7]]\n",
      "\n",
      " [[ 0  7]\n",
      "  [ 2  4]\n",
      "  [-7 -5]\n",
      "  ...\n",
      "  [ 1  2]\n",
      "  [ 7  1]\n",
      "  [-3 -5]]\n",
      "\n",
      " ...\n",
      "\n",
      " [[-1  7]\n",
      "  [ 5 -8]\n",
      "  [ 1 -1]\n",
      "  ...\n",
      "  [-5 -8]\n",
      "  [-1 -4]\n",
      "  [-2  0]]\n",
      "\n",
      " [[ 5  0]\n",
      "  [-1  4]\n",
      "  [-8  0]\n",
      "  ...\n",
      "  [ 1  6]\n",
      "  [ 5 -2]\n",
      "  [-8 -7]]\n",
      "\n",
      " [[ 4  6]\n",
      "  [ 3  0]\n",
      "  [ 0  7]\n",
      "  ...\n",
      "  [-6  5]\n",
      "  [-4  1]\n",
      "  [ 1  5]]]\n"
     ]
    }
   ],
   "source": [
    "print res2"
   ]
  },
  {
   "cell_type": "code",
   "execution_count": 24,
   "metadata": {},
   "outputs": [],
   "source": [
    "np.random.randint?"
   ]
  },
  {
   "cell_type": "code",
   "execution_count": null,
   "metadata": {},
   "outputs": [],
   "source": []
  }
 ],
 "metadata": {
  "kernelspec": {
   "display_name": "Python 2",
   "language": "python",
   "name": "python2"
  },
  "language_info": {
   "codemirror_mode": {
    "name": "ipython",
    "version": 2
   },
   "file_extension": ".py",
   "mimetype": "text/x-python",
   "name": "python",
   "nbconvert_exporter": "python",
   "pygments_lexer": "ipython2",
   "version": "2.7.13"
  }
 },
 "nbformat": 4,
 "nbformat_minor": 2
}
