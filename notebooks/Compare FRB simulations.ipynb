{
 "cells": [
  {
   "cell_type": "code",
   "execution_count": 12,
   "metadata": {},
   "outputs": [],
   "source": [
    " # compare simulations of FRBs\n",
    "from pylab import *\n",
    "import matplotlib as mpl\n",
    "import seaborn as sns\n",
    "sys.path.append('/Users/ban115/bolton/craft/code/python') # for calc11\n",
    "\n",
    "import calc11\n",
    "import os\n",
    "import simfrb\n",
    "import numpy as np\n",
    "from scipy import constants\n",
    "import fdmt # you'll need to have ../python in  you PYTHONPATH\n",
    "import craco\n",
    "import simfrb\n",
    "reload(simfrb)\n",
    "reload(fdmt)\n",
    "%matplotlib inline"
   ]
  },
  {
   "cell_type": "code",
   "execution_count": 13,
   "metadata": {},
   "outputs": [],
   "source": [
    "fch1 = 0.735\n",
    "nchan = 32\n",
    "foff = 0.001\n",
    "tsamp = 1.7\n",
    "dm = 100\n",
    "amp = 1 \n",
    "toffset = 10\n",
    "noiserms = 0\n",
    "ntimes = 64\n",
    "dclevel = 0"
   ]
  },
  {
   "cell_type": "code",
   "execution_count": 14,
   "metadata": {},
   "outputs": [],
   "source": [
    "a1 = simfrb.mkfrb2(fch1, foff, nchan, tsamp, dm, amp, toffset, noiserms, ntimes, dclevel)\n"
   ]
  },
  {
   "cell_type": "code",
   "execution_count": 15,
   "metadata": {},
   "outputs": [],
   "source": [
    "reload(simfrb)\n",
    "reload(fdmt)\n",
    "a2 = simfrb.mkfrb_fdmt(fch1, foff, nchan, tsamp, dm, amp, toffset, noiserms, ntimes, dclevel)"
   ]
  },
  {
   "cell_type": "code",
   "execution_count": 16,
   "metadata": {},
   "outputs": [
    {
     "name": "stdout",
     "output_type": "stream",
     "text": [
      "(64, 32) (64, 32)\n"
     ]
    }
   ],
   "source": [
    "print a1.shape, a2.shape\n",
    "assert a1.shape == a2.shape"
   ]
  },
  {
   "cell_type": "code",
   "execution_count": 17,
   "metadata": {},
   "outputs": [
    {
     "name": "stdout",
     "output_type": "stream",
     "text": [
      "All OK? False Difference^2= 11.494302463197991\n"
     ]
    },
    {
     "data": {
      "image/png": "[encoded data removed]",
      "text/plain": [
       "<matplotlib.figure.Figure at 0x1169d79d0>"
      ]
     },
     "metadata": {},
     "output_type": "display_data"
    }
   ],
   "source": [
    "def myimshow(ax, d, title='', **kwargs):\n",
    "    ax.imshow(d, aspect='auto', origin='lower', interpolation='nearest')\n",
    "    ax.set_title(title)\n",
    "\n",
    "fig, axs = subplots(1,3, sharex=True, sharey=True)\n",
    "fig.set_size_inches([12,8])\n",
    "myimshow(axs[0], a1.T, 'mkfrb2')\n",
    "myimshow(axs[1], a2.T, 'fdmt')\n",
    "myimshow(axs[2], a2.T - a1.T, 'diff')\n",
    "#axs[0].set_xlim(0,10)\n",
    "\n",
    "print \"All OK?\", np.all(a2 == a1), 'Difference^2=', np.sum((a2 - a1)**2)"
   ]
  },
  {
   "cell_type": "code",
   "execution_count": 18,
   "metadata": {},
   "outputs": [],
   "source": [
    "ntoff = 10\n",
    "nfoff = 10\n",
    "abserr = np.zeros((ntoff, nfoff))\n",
    "for itoff, t_off in enumerate(linspace(-1, 1, ntoff)):\n",
    "    for ifoff, f_off in enumerate(linspace(-1, 1, nfoff)):\n",
    "        a1 = simfrb.mkfrb2(fch1+f_off*foff, foff, nchan, tsamp, dm, amp, toffset+1+t_off*tsamp, noiserms, ntimes, dclevel)\n",
    "        abserr[itoff, ifoff] = sum(a1 - a2)**2"
   ]
  },
  {
   "cell_type": "code",
   "execution_count": 19,
   "metadata": {},
   "outputs": [
    {
     "name": "stdout",
     "output_type": "stream",
     "text": [
      "(10, 10)\n"
     ]
    },
    {
     "data": {
      "image/png": "[encoded data removed]",
      "text/plain": [
       "<matplotlib.figure.Figure at 0x11789c290>"
      ]
     },
     "metadata": {},
     "output_type": "display_data"
    }
   ],
   "source": [
    "print abserr.shape\n",
    "fig, ax = subplots(1,2)\n",
    "myimshow(ax[0], abserr, 'error')\n",
    "ax[0].set_xlabel('Foff')\n",
    "ax[0].set_ylabel('Toff')\n",
    "myimshow(ax[1], abserr==0, 'where the error is zero')"
   ]
  },
  {
   "cell_type": "code",
   "execution_count": 9,
   "metadata": {},
   "outputs": [
    {
     "data": {
      "text/plain": [
       "[<matplotlib.lines.Line2D at 0x116a29810>,\n",
       " <matplotlib.lines.Line2D at 0x116a29290>,\n",
       " <matplotlib.lines.Line2D at 0x116a1f150>,\n",
       " <matplotlib.lines.Line2D at 0x116a1fe50>,\n",
       " <matplotlib.lines.Line2D at 0x116a1fb90>,\n",
       " <matplotlib.lines.Line2D at 0x116a1f6d0>,\n",
       " <matplotlib.lines.Line2D at 0x116a1ff10>,\n",
       " <matplotlib.lines.Line2D at 0x1169dfd10>,\n",
       " <matplotlib.lines.Line2D at 0x116a1fa90>,\n",
       " <matplotlib.lines.Line2D at 0x116a1fb10>]"
      ]
     },
     "execution_count": 9,
     "metadata": {},
     "output_type": "execute_result"
    },
    {
     "data": {
      "image/png": "[encoded data removed]",
      "text/plain": [
       "<matplotlib.figure.Figure at 0x1171a4e50>"
      ]
     },
     "metadata": {},
     "output_type": "display_data"
    }
   ],
   "source": [
    "plot(abserr)"
   ]
  },
  {
   "cell_type": "code",
   "execution_count": 10,
   "metadata": {},
   "outputs": [
    {
     "data": {
      "text/plain": [
       "(array([ 7.,  0.,  0.,  0., 89.,  0.,  0.,  0.,  3.,  1.]),\n",
       " array([25., 25., 25., 25., 25., 25., 25., 25., 25., 25., 25.]),\n",
       " <a list of 10 Patch objects>)"
      ]
     },
     "execution_count": 10,
     "metadata": {},
     "output_type": "execute_result"
    },
    {
     "data": {
      "image/png": "[encoded data removed]",
      "text/plain": [
       "<matplotlib.figure.Figure at 0x116b95090>"
      ]
     },
     "metadata": {},
     "output_type": "display_data"
    }
   ],
   "source": [
    "hist(abserr.flatten())"
   ]
  },
  {
   "cell_type": "code",
   "execution_count": 11,
   "metadata": {},
   "outputs": [
    {
     "data": {
      "text/plain": [
       "array([[25., 25., 25., 25., 25., 25., 25., 25., 25., 25.],\n",
       "       [25., 25., 25., 25., 25., 25., 25., 25., 25., 25.],\n",
       "       [25., 25., 25., 25., 25., 25., 25., 25., 25., 25.],\n",
       "       [25., 25., 25., 25., 25., 25., 25., 25., 25., 25.],\n",
       "       [25., 25., 25., 25., 25., 25., 25., 25., 25., 25.],\n",
       "       [25., 25., 25., 25., 25., 25., 25., 25., 25., 25.],\n",
       "       [25., 25., 25., 25., 25., 25., 25., 25., 25., 25.],\n",
       "       [25., 25., 25., 25., 25., 25., 25., 25., 25., 25.],\n",
       "       [25., 25., 25., 25., 25., 25., 25., 25., 25., 25.],\n",
       "       [25., 25., 25., 25., 25., 25., 25., 25., 25., 25.]])"
      ]
     },
     "execution_count": 11,
     "metadata": {},
     "output_type": "execute_result"
    }
   ],
   "source": [
    "abserr"
   ]
  },
  {
   "cell_type": "code",
   "execution_count": null,
   "metadata": {},
   "outputs": [],
   "source": []
  }
 ],
 "metadata": {
  "kernelspec": {
   "display_name": "Python 2",
   "language": "python",
   "name": "python2"
  },
  "language_info": {
   "codemirror_mode": {
    "name": "ipython",
    "version": 2
   },
   "file_extension": ".py",
   "mimetype": "text/x-python",
   "name": "python",
   "nbconvert_exporter": "python",
   "pygments_lexer": "ipython2",
   "version": "2.7.17"
  }
 },
 "nbformat": 4,
 "nbformat_minor": 2
}
