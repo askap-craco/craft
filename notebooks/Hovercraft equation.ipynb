{
 "cells": [
  {
   "cell_type": "markdown",
   "metadata": {},
   "source": [
    "# Soren and Omri's hovecraft design\n",
    "\n",
    "\n",
    "Pressure is\n",
    "\n",
    "$W = p_{cu} A_c $\n",
    "\n",
    "Where pcu is the cushion pressure and Ac is the effective cushion area. For most current designs, the cushion pressure varies in the range 1.2-3.3 kPa (25-70 lb/ft²). The power (Pa) required to sustain the air cushion at the peripheral gap is given by:\n",
    "\n",
    "\n",
    "$P_a = h_c l_{cu} D_c (W/A_c)^{3/2} (2/d)^{1/2}$\n",
    "\n",
    "Where hc is the clearance height, lcu is the cushion perimeter, d is the density of air and Dc is the discharge coefficient (it varies from 0.5-1.0 depending on wall design but assume it is equal to 0.611 for a skirt with a straight wall). This does not included the fan efficiency and different ducting losses. For an effective design (i.e. the pressure is used more to support the hovercraft and less to push the air out of the skirt), the following expression should be as high as possible:\n",
    "\n",
    "$K_a = A_c/(2 h_c l_{cu} D_{c})$\n",
    "\n",
    "Reference https://www.physicsforums.com/threads/hovercraft-equation.452768/\n",
    "\n",
    "All of theses equations comes from http://books.google.ca/books?id=Blp...AA#v=onepage&q=theory ground vehicle&f=false\" (chapter 8, 2nd ed.).\n"
   ]
  },
  {
   "cell_type": "code",
   "execution_count": 3,
   "metadata": {},
   "outputs": [],
   "source": [
    "from numpy import *"
   ]
  },
  {
   "cell_type": "code",
   "execution_count": 66,
   "metadata": {},
   "outputs": [
    {
     "name": "stdout",
     "output_type": "stream",
     "text": [
      "Power is 227.0 W Pressure is 0.048 N/m^2 Ka=1.6\n"
     ]
    }
   ],
   "source": [
    "hc = 0.1 # clearence height (m)\n",
    "lcu = 1.0 # cushion parameter (???)\n",
    "Dc = 0.611 # Disharge coefficient\n",
    "W = 30.0 + 10. # weight kg\n",
    "r = 0.25 # radius of aperture out of which the air flows\n",
    "Ac = pi * r**2 # Area of circular aperture\n",
    "d = 1.225 # Desnsity of air kg/m^3\n",
    "Pa = hc*lcu*Dc*(W/Ac)**(3./2.) * (2./d)**(1./2.) # Power (W)\n",
    "pcu = Ac/W # Cushion pressure (kg/m^2)\n",
    "Ka = Ac/(2*hc*lcu*Dc)\n",
    "print('Power is {:0.1f} W Pressure is {:0.3f} N/m^2 Ka={:0.1f}'.format(Pa, pcu*9.8, Ka))"
   ]
  },
  {
   "cell_type": "code",
   "execution_count": 69,
   "metadata": {},
   "outputs": [
    {
     "name": "stdout",
     "output_type": "stream",
     "text": [
      "Down force is 392.0 N Required pressure 1996.4 Pa air velocity 58.3m/s dynamic pressure: 2084.2 Pa dynamic force 409.2 N\n"
     ]
    }
   ],
   "source": [
    " # from here: https://www.raeng.org.uk/publications/other/hovercraft-educational-resource\n",
    "F = W*9.8 # Force (N)\n",
    "Preq = F / Ac # Required pressure (pa)\n",
    "v = 210 * 1000./3600. # Output velocity in m/s\n",
    "Q = 0.5 * d * v**2 # dynamic pressure Pa = N/m^2\n",
    "Fdyn = Q * Ac # dynamic force\n",
    "print('Down force is {:0.1f} N Required pressure {:0.1f} Pa air velocity {:0.1f}m/s dynamic pressure: {:0.1f} Pa dynamic force {:0.1f} N'.format(F, Preq, v, Q, Fdyn))\n",
    "\n"
   ]
  },
  {
   "cell_type": "code",
   "execution_count": null,
   "metadata": {},
   "outputs": [],
   "source": []
  },
  {
   "cell_type": "code",
   "execution_count": null,
   "metadata": {},
   "outputs": [],
   "source": []
  }
 ],
 "metadata": {
  "kernelspec": {
   "display_name": "Python 2",
   "language": "python",
   "name": "python2"
  },
  "language_info": {
   "codemirror_mode": {
    "name": "ipython",
    "version": 2
   },
   "file_extension": ".py",
   "mimetype": "text/x-python",
   "name": "python",
   "nbconvert_exporter": "python",
   "pygments_lexer": "ipython2",
   "version": "2.7.14"
  }
 },
 "nbformat": 4,
 "nbformat_minor": 2
}
