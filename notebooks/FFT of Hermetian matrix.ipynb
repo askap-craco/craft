{
 "cells": [
  {
   "cell_type": "markdown",
   "metadata": {},
   "source": [
    "# FFT of Hermetian matrix"
   ]
  },
  {
   "cell_type": "markdown",
   "metadata": {},
   "source": [
    "Xinping wants to know about this:\n",
    "why fft2 of a hermitian matrix gives complex result\n",
    "\n",
    " https://math.stackexchange.com/questions/2364864/why-fft2-of-a-hermitian-matrix-gives-complex-result \n",
    "\n"
   ]
  },
  {
   "cell_type": "code",
   "execution_count": 2,
   "metadata": {},
   "outputs": [],
   "source": [
    "import numpy as np\n",
    "from pylab import *\n",
    "%matplotlib inline"
   ]
  },
  {
   "cell_type": "markdown",
   "metadata": {},
   "source": [
    "Xinping's example that doesn't work"
   ]
  },
  {
   "cell_type": "code",
   "execution_count": 92,
   "metadata": {},
   "outputs": [],
   "source": [
    "N = 3\n",
    "real_matrix = np.random.random_sample((N,N))\n",
    "ifft2 = np.fft.ifft2(real_matrix)\n",
    "fft2 = np.fft.fft2(ifft2)"
   ]
  },
  {
   "cell_type": "code",
   "execution_count": 93,
   "metadata": {},
   "outputs": [
    {
     "name": "stdout",
     "output_type": "stream",
     "text": [
      "[[0.67387289 0.91915049 0.54209499]\n",
      " [0.06393561 0.67399892 0.84117354]\n",
      " [0.06299286 0.4257123  0.33560345]]\n"
     ]
    }
   ],
   "source": [
    "print(real_matrix)"
   ]
  },
  {
   "cell_type": "code",
   "execution_count": 94,
   "metadata": {},
   "outputs": [
    {
     "name": "stdout",
     "output_type": "stream",
     "text": [
      "[[0.67387289 0.91915049 0.54209499]\n",
      " [0.06393561 0.67399892 0.84117354]\n",
      " [0.06299286 0.4257123  0.33560345]]\n",
      "[[0.00000000e+00 1.11022302e-16 0.00000000e+00]\n",
      " [4.16333634e-17 2.22044605e-16 4.44089210e-16]\n",
      " [6.93889390e-17 0.00000000e+00 2.22044605e-16]]\n"
     ]
    }
   ],
   "source": [
    "# The real part of ff2 indeed transforms back to real_matrix\n",
    "print(fft2.real)\n",
    "print(abs(fft2.real - real_matrix))"
   ]
  },
  {
   "cell_type": "code",
   "execution_count": 95,
   "metadata": {},
   "outputs": [
    {
     "name": "stdout",
     "output_type": "stream",
     "text": [
      "[[ 0.50428167+0.j         -0.11867394+0.02886653j -0.11867394-0.02886653j]\n",
      " [ 0.10371222+0.07263061j  0.07131895+0.00381078j  0.02843837-0.07616924j]\n",
      " [ 0.10371222-0.07263061j  0.02843837+0.07616924j  0.07131895-0.00381078j]]\n"
     ]
    }
   ],
   "source": [
    "# But ifft2 doesn't look Hermetian\n",
    "print(ifft2)"
   ]
  },
  {
   "cell_type": "code",
   "execution_count": 96,
   "metadata": {},
   "outputs": [
    {
     "name": "stdout",
     "output_type": "stream",
     "text": [
      "[[ 0.07131895-0.00381078j  0.10371222-0.07263061j  0.02843837+0.07616924j]\n",
      " [-0.11867394-0.02886653j  0.50428167+0.j         -0.11867394+0.02886653j]\n",
      " [ 0.02843837-0.07616924j  0.10371222+0.07263061j  0.07131895+0.00381078j]]\n"
     ]
    }
   ],
   "source": [
    "# Aaah, but if you use fftshift to shift it all around - you get it 'Hermetian' \n",
    "# Not a Hermetian matrix (Which is symmetric about the diagonal) but a 'Hermeitian function'\n",
    "# It's not symmetric about the diagonal, it's rotated around 180 degrees around zero.\n",
    "# Note how the center of of the UV plane is purely real\n",
    "print(np.fft.fftshift(ifft2))"
   ]
  },
  {
   "cell_type": "code",
   "execution_count": 105,
   "metadata": {},
   "outputs": [
    {
     "name": "stdout",
     "output_type": "stream",
     "text": [
      "u= 0 v= 0 (0.5042816725880948+0j) (0.5042816725880948+0j) diff 0.0\n",
      "u= 0 v= 1 (0.10371222488876211+0.07263061158069026j) (0.10371222488876211-0.07263061158069026j) diff 0.0\n",
      "u= 1 v= 0 (-0.11867394253969382+0.0288665263647273j) (-0.11867394253969382-0.0288665263647273j) diff 0.0\n",
      "u= 1 v= 1 (0.07131895097361016+0.0038107800948882402j) (0.07131895097361016-0.0038107800948882402j) diff 0.0\n"
     ]
    }
   ],
   "source": [
    "shifted = np.fft.fftshift(ifft2)\n",
    "# u, v have the origin at the center of the UV plane\n",
    "for u in range((N+1)//2):\n",
    "    for v in range((N+1)//2):\n",
    "        # Note, when plotting numpy arrays, the left-most axis is the Y axis and right-most axis is the X axis\n",
    "        print('u=', u, 'v=', v, shifted[N//2+v, N//2+u], shifted[N//2-v, N//2-u], 'diff', abs(shifted[N//2+a, N//2+b] - np.conj(shifted[N//2-a, N//2-b])))"
   ]
  },
  {
   "cell_type": "markdown",
   "metadata": {},
   "source": [
    "This comes about because how how a visibility is calculated.\n",
    "\n",
    "A visibility between antenna $i$ and $j$ is the cross correlation of their complex voltages where $s_j(t)$ is the complex voltage at time $t$ for antenna $j$ and : where $<>$ takes the average over time and $*$ is the complex conjugate: \n",
    "\n",
    "$V_{i,j} = <s_i(t) s_j^*(t)>$\n",
    "\n",
    "Recall also the position in the UV plane (where 0 in the UV plane is the center of the image) is given by:\n",
    "$p_{i,j} = x_i - x_j$ where $x_i$ is the 2D position of antenna $i$ and $p$ is the coordinate in the UV plane.\n",
    "\n",
    "Let's say you unplug the antennas from your correlator and swap the cables:\n",
    "The visibilities it would compute would be exactly the same, except the complex conjugate:\n",
    "\n",
    "$V_{j, i} = V^*_{i, j}$\n",
    "\n",
    "And when you're gridding you need to use the opposite vector: $p_{i,j} = -p_{j,i}$ \n",
    "\n",
    "Which is why you rotate around in the UV plane.\n",
    "\n"
   ]
  },
  {
   "cell_type": "code",
   "execution_count": null,
   "metadata": {},
   "outputs": [],
   "source": []
  },
  {
   "cell_type": "code",
   "execution_count": null,
   "metadata": {},
   "outputs": [],
   "source": []
  },
  {
   "cell_type": "code",
   "execution_count": null,
   "metadata": {},
   "outputs": [],
   "source": []
  }
 ],
 "metadata": {
  "kernelspec": {
   "display_name": "Python 3",
   "language": "python",
   "name": "python3"
  },
  "language_info": {
   "codemirror_mode": {
    "name": "ipython",
    "version": 3
   },
   "file_extension": ".py",
   "mimetype": "text/x-python",
   "name": "python",
   "nbconvert_exporter": "python",
   "pygments_lexer": "ipython3"
  }
 },
 "nbformat": 4,
 "nbformat_minor": 2
}
