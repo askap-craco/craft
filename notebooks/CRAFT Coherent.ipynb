{
 "cells": [
  {
   "cell_type": "code",
   "execution_count": 103,
   "metadata": {},
   "outputs": [],
   "source": [
    "%matplotlib inline\n",
    "import numpy as np\n",
    "import fdmt"
   ]
  },
  {
   "cell_type": "code",
   "execution_count": 104,
   "metadata": {},
   "outputs": [
    {
     "name": "stdout",
     "output_type": "stream",
     "text": [
      "Iteration 1 2.0 2.0 2.0 False\n",
      "Iteration 2 4.0 4.0 4.0 False\n",
      "Iteration 3 8.0 8.0 8.0 False\n",
      "Iteration 4 16.0 16.0 16.0 False\n",
      "Iteration 5 32.0 32.0 16.0 True\n",
      "Iteration 6 64.0 64.0 16.0 True\n",
      "Iteration 7 128.0 128.0 80.0 False\n",
      "Iteration 8 256.0 256.0 80.0 True\n",
      "Iteration 9 336.0 512.0 336.0 False\n"
     ]
    }
   ],
   "source": [
    "nf = 336\n",
    "fmax = 1440.\n",
    "fmin = fmax - nf*df\n",
    "df = 1.0\n",
    "nd = 1024\n",
    "nt = 256\n",
    "reload(fdmt)\n",
    "thefdmt = fdmt.Fdmt(fmin, df, nf, nd, nt)\n"
   ]
  },
  {
   "cell_type": "code",
   "execution_count": 105,
   "metadata": {},
   "outputs": [
    {
     "data": {
      "text/plain": [
       "[9, 18, 36, 71, 138, 265, 489, 847, 1023]"
      ]
     },
     "execution_count": 105,
     "metadata": {},
     "output_type": "execute_result"
    }
   ],
   "source": [
    "thefdmt.hist_delta_t"
   ]
  },
  {
   "cell_type": "code",
   "execution_count": 107,
   "metadata": {},
   "outputs": [
    {
     "name": "stdout",
     "output_type": "stream",
     "text": [
      "[[ 336    5  256]\n",
      " [ 168   10  266]\n",
      " [  84   19  275]\n",
      " [  42   37  293]\n",
      " [  21   72  328]\n",
      " [  11  139  395]\n",
      " [   6  266  522]\n",
      " [   3  490  746]\n",
      " [   2  848 1104]\n",
      " [   1 1024 1280]]\n"
     ]
    }
   ],
   "source": [
    "shapes = np.array(thefdmt.hist_state_shape)\n",
    "print(shapes)"
   ]
  },
  {
   "cell_type": "code",
   "execution_count": 108,
   "metadata": {},
   "outputs": [
    {
     "name": "stdout",
     "output_type": "stream",
     "text": [
      "(array([ 430080,  446880,  438900,  455322,  495936,  603955,  833112,\n",
      "       1096620, 1872384, 1310720]), 1872384)\n"
     ]
    }
   ],
   "source": [
    "print(shapes.prod(axis=1), shapes.prod(axis=1).max())"
   ]
  },
  {
   "cell_type": "code",
   "execution_count": 100,
   "metadata": {},
   "outputs": [
    {
     "data": {
      "text/plain": [
       "(1104.0,\n",
       " 1106.0,\n",
       " 1104.5,\n",
       " 1105.5,\n",
       " 10,\n",
       " [(0, 0, 0, 0, (0, 0, 0), (0, 0, 0), (1, 0, 0)),\n",
       "  (0, 0, 1, 0, (0, 1, 1), (0, 0, 1), (1, 0, 0)),\n",
       "  (1, 1, 2, 0, (0, 2, 2), (0, 1, 2), (1, 0, 0)),\n",
       "  (1, 1, 2, 1, (0, 3, 2), (0, 1, 2), (1, 1, 0)),\n",
       "  (1, 1, 3, 1, (0, 4, 3), (0, 1, 3), (1, 1, 0)),\n",
       "  (1, 1, 4, 1, (0, 5, 4), (0, 1, 4), (1, 1, 0)),\n",
       "  (2, 2, 5, 1, (0, 6, 5), (0, 2, 5), (1, 1, 0)),\n",
       "  (2, 2, 5, 2, (0, 7, 5), (0, 2, 5), (1, 2, 0)),\n",
       "  (2, 2, 6, 2, (0, 8, 6), (0, 2, 6), (1, 2, 0)),\n",
       "  (2, 2, 7, 2, (0, 9, 7), (0, 2, 7), (1, 2, 0))])"
      ]
     },
     "execution_count": 100,
     "metadata": {},
     "output_type": "execute_result"
    }
   ],
   "source": [
    "thefdmt.hist_nf_data[0][0]"
   ]
  },
  {
   "cell_type": "code",
   "execution_count": 85,
   "metadata": {},
   "outputs": [
    {
     "data": {
      "text/plain": [
       "512.0"
      ]
     },
     "execution_count": 85,
     "metadata": {},
     "output_type": "execute_result"
    }
   ],
   "source": [
    "thefdmt._df_bot"
   ]
  },
  {
   "cell_type": "code",
   "execution_count": null,
   "metadata": {},
   "outputs": [],
   "source": []
  },
  {
   "cell_type": "code",
   "execution_count": null,
   "metadata": {},
   "outputs": [],
   "source": []
  }
 ],
 "metadata": {
  "kernelspec": {
   "display_name": "Python 2",
   "language": "python",
   "name": "python2"
  },
  "language_info": {
   "codemirror_mode": {
    "name": "ipython",
    "version": 2
   },
   "file_extension": ".py",
   "mimetype": "text/x-python",
   "name": "python",
   "nbconvert_exporter": "python",
   "pygments_lexer": "ipython2",
   "version": "2.7.13"
  }
 },
 "nbformat": 4,
 "nbformat_minor": 2
}
