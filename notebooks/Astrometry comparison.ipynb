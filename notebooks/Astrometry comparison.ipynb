{
 "cells": [
  {
   "cell_type": "code",
   "execution_count": 1,
   "metadata": {},
   "outputs": [],
   "source": [
    "from pylab import *\n",
    "from astropy import units as u\n",
    "from astropy.coordinates import SkyCoord, Angle\n",
    "%matplotlib notebook"
   ]
  },
  {
   "cell_type": "code",
   "execution_count": 2,
   "metadata": {},
   "outputs": [],
   "source": [
    "class Coord(object):\n",
    "    def __init__(self, ra, dec, raerr, decerr, unit=(u.hourangle, u.deg), errunit=u.arcsec, ra_sec=False):\n",
    "        self.s = SkyCoord(ra, dec, unit=unit)\n",
    "        if ra_sec:\n",
    "            self.raerr = Angle(raerr*15.*np.cos(self.s.dec.rad), errunit)\n",
    "        else:\n",
    "            self.raerr = Angle(raerr, errunit)\n",
    "            \n",
    "        self.decerr = Angle(decerr, errunit)\n",
    "        #self.serr = SkyCoord(raerr, decerr*u.arcsec, unit=())\n",
    "        \n",
    "    def separation(self, other):\n",
    "        return self.s.separation(other.s)\n",
    "    \n",
    "    def __str__(self):\n",
    "        return '{} +- {} {}+- {}'.format(self.s.ra, self.raerr, self.s.dec, self.decerr)\n",
    "    __repr__ = __str__"
   ]
  },
  {
   "cell_type": "code",
   "execution_count": 3,
   "metadata": {},
   "outputs": [],
   "source": [
    "# adams position from the ticket https://jira.csiro.au/browse/CRAFT-233\n",
    "frb = Coord('21:44:25.271','-40:53:59.81', 0.014, 0.14, ra_sec=True)\n",
    "adam_sources = {'2144-4137':Coord('21:44:04.676', '-41:37:50.86', 0.011, 0.12, ra_sec=True),\n",
    "               '2144-4126':Coord('21:44:21.268','-41:26:40.21', 0.030, 0.33, ra_sec=True),\n",
    "               '2144-4118':Coord('21:44:38.95', '-41:18:33.8', 0.14, 1.3, ra_sec=True),\n",
    "               '2146-4051':Coord('21:46:45.62', '-40:51:28.8', 0.12, 1.4, ra_sec=True)}\n",
    "vlbi_sources = {'2144-4137':Coord('21:44:04.718', '-41:37:51.103', 0.01*u.arcsec, 0.010*u.arcsec)}\n",
    "\n",
    "# from the ATCA calogue\n",
    "catalogue_sources = {\n",
    "    '2106-413':Coord('21:09:33.189','-41:10:20.60',0.02,0.02), # 0.02 arcsec\n",
    "    '2211-388':Coord('22:14:38.569',' -38:35:45.00',0.02,0.02),\n",
    "    '2054-377':Coord('20:57:41.603454',' -37:34:02.989870',0.002,0.002), # vla calibrator\n",
    "    '2052-474':Coord('20:56:16.35982597', '-47:14:47.6278751', 0.001, 0.001) # VLBI ICRF Ext2\n",
    "}\n",
    "\n"
   ]
  },
  {
   "cell_type": "code",
   "execution_count": 4,
   "metadata": {},
   "outputs": [],
   "source": [
    "liz_pos = '''\n",
    "#name ra dec ra_err dec_err S S_err maj min pa (deconvolved)\n",
    "2211-388_p 22:14:38.569 -38:35:44.998 0.00035 0.00040 1.317 2.5927E-04 0 0 0\n",
    "2211-388_g 22:14:38.569 -38:35:44.998 0.00035 0.00039 1.317 5.2343E-04 0.113 0.032 -67.8\n",
    "2052-474_p 20:56:16.361 -47:14:47.505 0.00446 0.00627 1.696 5.1786E-03 0 0 0\n",
    "2052-474_g 20:56:16.361 -47:14:47.508 0.00424 0.00618 1.771 1.0213E-02 1.182 0.580 -0.2\n",
    "2054-377_p 20:57:41.605 -37:34:02.861 0.00278 0.00550 0.4788 1.0060E-03 0 0 0\n",
    "2054-377_g 20:57:41.605 -37:34:02.861 0.00279 0.00552 0.4831 2.0416E-03 0.649 0.236 -12.0\n",
    "2106-413_p 21:09:33.193 -41:10:20.584 0.00332 0.00522 1.065 2.4512E-03 0 0 0\n",
    "2106-413_g 21:09:33.193 -41:10:20.584 0.00333 0.00519 1.080 4.9592E-03 0.579 0.384 -39.9\n",
    "2144-4126_p 21:44:21.335 -41:26:40.641 0.00479 0.00647 0.1002 3.1234E-04\n",
    "2144-4126_g 21:44:21.335 -41:26:40.642 0.00484 0.00651 0.1019 6.4138E-04 0.612 0.498 -14.2\n",
    "'''\n",
    "\n",
    "liz_pos2 = '''\n",
    "# 2211 as calibrator?\n",
    "#name ra dec ra_err dec_err S S_err maj min pa (deconvolved)\n",
    "2211-388_p 22:14:38.569 -38:35:44.998 0.00035 0.00040 1.317 2.5927E-04 0 0 0\n",
    "2211-388_g 22:14:38.569 -38:35:44.998 0.00035 0.00039 1.317 5.2343E-04 0.113 0.032 -67.8\n",
    "2052-474_p 20:56:16.361 -47:14:47.505 0.00446 0.00627 1.696 5.1786E-03 0 0 0\n",
    "2052-474_g 20:56:16.361 -47:14:47.508 0.00424 0.00618 1.771 1.0213E-02 1.182 0.580 -0.2\n",
    "2054-377_p 20:57:41.605 -37:34:02.861 0.00278 0.00550 0.4788 1.0060E-03 0 0 0\n",
    "2054-377_g 20:57:41.605 -37:34:02.861 0.00279 0.00552 0.4831 2.0416E-03 0.649 0.236 -12.0\n",
    "2106-413_p 21:09:33.193 -41:10:20.584 0.00332 0.00522 1.065 2.4512E-03 0 0 0\n",
    "2106-413_g 21:09:33.193 -41:10:20.584 0.00333 0.00519 1.080 4.9592E-03 0.579 0.384 -39.9\n",
    "2144-4126_p 21:44:21.335 -41:26:40.641 0.00479 0.00647 0.1002 3.1234E-04 0 0 0\n",
    "2144-4126_g 21:44:21.335 -41:26:40.642 0.00484 0.00651 0.1019 6.4138E-04 0.612 0.498 -14.2\n",
    "2144-4118_p 21:44:38.890 -41:18:34.150 0.017 0.022 2.0997E-02 2.2870E-04 0 0 0\n",
    "2144-4118_g 21:44:38.882 -41:18:34.212 0.018 0.018 2.7499E-02 4.4112E-04 2.975 1.336 60.9\n",
    "2144-4137_p 21:44:04.720 -41:37:50.992 0.00289 0.00374 0.5807 1.0651E-03 0 0 0\n",
    "2144-4137_g 21:44:04.720 -41:37:50.992 0.00288 0.00375 0.5876 2.1592E-03 0.556 0.372 1.4\n",
    "2146-4051_p 21:46:45.645 -40:51:28.583 0.027 0.038 2.0334E-02 3.6309E-04 0 0 0\n",
    "2146-4051_g 21:46:45.712 -40:51:28.097 0.027 0.024 3.5551E-02 6.4341E-04 5.369 0.872 55.9\n",
    "2147-4023_p? 21:47:30.469 -40:23:42.092 0.112 0.172 1.0491E-02 8.1681E-04 0 0 0\n",
    "2147-4023_g? 21:47:30.193 -40:23:40.246 0.174 0.127 0.1100 4.6180E-03 15.478 9.264 -69.0\n",
    "'''\n",
    "\n",
    "# from email now has 2106 as calibrator\n",
    "liz_pos3 = '''\n",
    "#name ra dec raerr decerr S Serr\n",
    "2106-413 21:09:33.189 -41:10:20.604 0.00189 0.00204 1.077 7.3788E-04\n",
    "2052-474 20:56:16.353 -47:14:47.527 0.00741 0.00709 1.732 4.7022E-03\n",
    "2054-377 20:57:41.603 -37:34:02.901 0.00604 0.00746 0.4790 1.0984E-03\n",
    "2211-388 22:14:38.563 -38:35:44.924 0.018 0.012 1.274 6.0728E-03\n",
    "#2144-4118 21:44:38.880 -41:18:34.137 0.019 0.020 2.1890E-02 2.2739E-04\n",
    "2144-4126 21:44:21.332 -41:26:40.591 0.00970 0.01100 9.8700E-02 5.6048E-04\n",
    "2144-4137 21:44:04.716 -41:37:50.949 0.00449 0.00463 0.5738 1.4088E-03\n",
    "#2146-4051 21:46:45.669 -40:51:28.322 0.032 0.032 2.1661E-02 3.6903E-04\n",
    "#2147-4023 21:47:30.432 -40:23:42.197 0.135 0.149 1.1525E-02 8.7879E-04\n",
    "'''\n",
    "\n",
    "liz_pos4 = '''\n",
    "#using 2052 as cal\n",
    "#name ra dec raerr decerr S Serr\n",
    "2052-474 20:56:16.359 -47:14:47.622 0.00169   0.00175 1.710 1.6637E-03\n",
    "2106-413 21:09:33.192 -41:10:20.719 0.00350   0.00419 1.078  z.2341E-03\n",
    "2054-377 20:57:41.602 -37:34:03.027 0.00402   0.00549 0.4817  1.1845E-03\n",
    "2211-388 22:14:38.567 -38:35:45.070 0.00830   0.00736 1.302  5.0626E-03\n",
    "2144-4118 21:44:38.881 -41:18:34.276 0.019     0.020  2.2300E-02 2.3056E-04\n",
    "2144-4126 21:44:21.334 -41:26:40.719 0.00616   0.00710   0.1008 3.6669E-04\n",
    "2144-4137 21:44:04.718  -41:37:51.070 0.00474   0.00494 0.5816  1.5226E-03\n",
    "2146-4051  21:46:45.664  -40:51:28.469  0.031     0.031 2.2264E-02 3.6630E-04\n",
    "2147-4023 21:47:30.444  -40:23:42.356   0.134     0.149  1.1256E-02 8.5870E-04\n",
    "'''\n",
    "\n",
    "# calibrated on 2211-388\n",
    "# I'm using the RA error where it says 'great circle distance'\n",
    "shivani_pos = '''\n",
    "2211-388 22:14:38.569303 0.001415 -038:35:45.000207 0.002532 \n",
    "2106-413 21:09:33.19616  0.00453 -041:10:20.58204  0.01029 \n",
    "2052-474 20:56:16.36242 0.01422 -047:14:47.52153 0.03418 \n",
    "2054-377 20:57:41.60788 0.00405 -037:34:02.85721  0.01529 \n",
    "2144-4137 21:44:04.70690 0.01212 -041:37:50.93823  0.02420 \n",
    "2144-4126 21:44:21.33821  0.01127 -041:26:40.58393  0.02255 \n",
    "'''\n",
    "shivani_sources = {}\n",
    "for line in shivani_pos.strip().split('\\n'):\n",
    "    bits = line.split()\n",
    "    name, ra, raerr, dec, decerr = bits\n",
    "    raerr, decerr = map(float, (raerr, decerr))\n",
    "    shivani_sources[name] = Coord(ra, dec, raerr, decerr)\n",
    "    "
   ]
  },
  {
   "cell_type": "code",
   "execution_count": 5,
   "metadata": {},
   "outputs": [
    {
     "name": "stdout",
     "output_type": "stream",
     "text": [
      "22:14:38.569 -38:35:44.998 0.00035 0.00039\n",
      "20:56:16.361 -47:14:47.508 0.00424 0.00618\n",
      "20:57:41.605 -37:34:02.861 0.00279 0.00552\n",
      "21:09:33.193 -41:10:20.584 0.00333 0.00519\n",
      "21:44:21.335 -41:26:40.642 0.00484 0.00651\n",
      "21:44:38.882 -41:18:34.212 0.018 0.018\n",
      "21:44:04.720 -41:37:50.992 0.00288 0.00375\n",
      "21:46:45.712 -40:51:28.097 0.027 0.024\n",
      "21:47:30.469 -40:23:42.092 0.112 0.172\n",
      "21:47:30.193 -40:23:40.246 0.174 0.127\n"
     ]
    }
   ],
   "source": [
    "liz_sources = {}\n",
    "for line in liz_pos2.split('\\n'):\n",
    "    if line.startswith('#') or line.strip() == '':\n",
    "        continue\n",
    "   \n",
    "    bits = line.split()\n",
    "    if '_' in bits[0]:\n",
    "        name, pointgauss = bits[0].split('_')\n",
    "        if pointgauss == 'p':\n",
    "            continue\n",
    "    else:\n",
    "        name = bits[0]\n",
    "    ra, dec = bits[1:3]\n",
    "    raerr, decerr = map(float, bits[3:5])\n",
    "    print ra, dec, raerr, decerr\n",
    "    liz_sources[name] = Coord(ra, dec, raerr, decerr)\n",
    "        "
   ]
  },
  {
   "cell_type": "code",
   "execution_count": 6,
   "metadata": {},
   "outputs": [
    {
     "data": {
      "text/latex": [
       "$0^\\circ00{}^\\prime00.8684{}^{\\prime\\prime}$"
      ],
      "text/plain": [
       "<Angle 0.00024123 deg>"
      ]
     },
     "execution_count": 6,
     "metadata": {},
     "output_type": "execute_result"
    }
   ],
   "source": [
    "liz_sources['2144-4126'].separation(adam_sources['2144-4126'])"
   ]
  },
  {
   "cell_type": "code",
   "execution_count": 7,
   "metadata": {},
   "outputs": [],
   "source": [
    "def plot_sep(sources, ref_sources, ax=None, **kwargs):\n",
    "    if ax is None:\n",
    "        ax = gca()\n",
    "\n",
    "    offsets = []\n",
    "    errs = []\n",
    "        \n",
    "    for source, c in ref_sources.iteritems():\n",
    "        if source not in sources.keys():\n",
    "            continue\n",
    "        other = sources[source]\n",
    "        dec = c.s.dec\n",
    "        dra = (other.s.ra - c.s.ra).to(u.mas)*np.cos(dec.rad)\n",
    "        ddec =  (other.s.dec - c.s.dec).to(u.mas)\n",
    "        raerr = np.sqrt(other.raerr**2 + c.raerr**2).to(u.mas)\n",
    "        decerr = np.sqrt(other.decerr**2 + c.decerr**2).to(u.mas)\n",
    "        #raerr = c.raerr.to(u.mas)\n",
    "        #decerr = c.decerr.to(u.mas)\n",
    "        print source, c.separation(other).to(u.mas), dra ,ddec, raerr, decerr, other.raerr.to(u.mas), other.decerr.to(u.mas)\n",
    "        offsets.append((dra.value, ddec.value))\n",
    "        errs.append((raerr.value, decerr.value))\n",
    "        ax.errorbar(dra.value, ddec.value, xerr=raerr.value, yerr=decerr.value, **kwargs)\n",
    "        ax.text(dra.mas, ddec.mas,source )\n",
    "\n",
    "\n",
    "    offsets = np.array(offsets)\n",
    "    errs = np.array(errs)\n",
    "    weights = 1./errs**2\n",
    "    avgoff = np.average(offsets, weights=weights, axis=0)\n",
    "    # errror in a weighted mean\n",
    "    err_mean = np.sqrt(np.average((offsets - avgoff)**2, weights=weights, axis=0))\n",
    "    offset_std = offsets.std(axis=0)\n",
    "    print 'Average Offset ra={:0.1f} +- {:0.1f} mas dec={:0.1f}+- {:0.1f}mas sigmas ra={:0.1f} mas dec={:0.1f} mas'.format(avgoff[0], err_mean[0], avgoff[1], err_mean[1], offset_std[0], offset_std[1])\n",
    "    ax.set_xlabel('R.A. Offset (mas)')\n",
    "    ax.set_ylabel('Dec Offset (mas)')\n",
    "    return avgoff, offset_std"
   ]
  },
  {
   "cell_type": "code",
   "execution_count": 8,
   "metadata": {},
   "outputs": [
    {
     "name": "stdout",
     "output_type": "stream",
     "text": [
      "---- LIZ ----\n",
      "2106-413 47.9143mas 45.1639mas 16mas 20.275327371 mas 20.6624320931 mas 3.33mas 5.19mas\n",
      "2054-377 130.174mas 18.3812mas 128.87mas 3.43279769284 mas 5.87114980221 mas 2.79mas 5.52mas\n",
      "2052-474 120.47mas 11.9548mas 119.875mas 4.35632872956 mas 6.26038337484 mas 4.24mas 6.18mas\n",
      "2211-388 2mas 0mas 2mas 20.0030622656 mas 20.0038021386 mas 0.35mas 0.39mas\n",
      "Average Offset ra=16.1 +- 5.3 mas dec=115.2+- 32.1mas sigmas ra=16.5 mas dec=58.0 mas\n",
      "---- SHIVANI ----\n",
      "2106-413 82.8144mas 80.8434mas 17.96mas 20.5066062526 mas 22.4918674191 mas 4.53mas 10.29mas\n",
      "2054-377 142.716mas 52.6231mas 132.66mas 4.51691266243 mas 15.4202496737 mas 4.05mas 15.29mas\n",
      "2052-474 109.576mas 26.4142mas 106.345mas 14.255118379 mas 34.1946253087 mas 14.22mas 34.18mas\n",
      "2211-388 3.55824mas 3.55222mas -0.207mas 20.0499931421 mas 20.1596384888 mas 1.415mas 2.532mas\n",
      "Average Offset ra=49.5 +- 13.5 mas dec=72.0+- 60.8mas sigmas ra=28.9 mas dec=56.5 mas\n"
     ]
    },
    {
     "data": {
      "text/plain": [
       "(-300, 300)"
      ]
     },
     "execution_count": 8,
     "metadata": {},
     "output_type": "execute_result"
    },
    {
     "data": {
      "image/png": "[encoded data removed]",
      "text/plain": [
       "<Figure size 432x288 with 1 Axes>"
      ]
     },
     "metadata": {},
     "output_type": "display_data"
    }
   ],
   "source": [
    "ax = gca()\n",
    "print '---- LIZ ----'\n",
    "liz_cal_off, liz_cal_err = plot_sep(liz_sources, catalogue_sources, ax, marker='x', c='green')\n",
    "print '---- SHIVANI ----'\n",
    "shivani_cal_off, shivani_cal_err = plot_sep(shivani_sources, catalogue_sources, ax, marker='o', c='red')\n",
    "xlim(-300,300)\n",
    "ylim(-300,300)"
   ]
  },
  {
   "cell_type": "code",
   "execution_count": 9,
   "metadata": {},
   "outputs": [
    {
     "name": "stdout",
     "output_type": "stream",
     "text": [
      "---- LIZ ----\n",
      "2144-4126 868.419mas 753.345mas -432mas 337.353456623 mas 330.064206027 mas 4.84mas 6.51mas\n",
      "2144-4137 510.666mas 493.311mas -132mas 123.361411927 mas 120.058579452 mas 2.88mas 3.75mas\n",
      "2144-4118 869.927mas -766.179mas -412mas 1577.53023442 mas 1300.12460941 mas 18mas 18mas\n",
      "2146-4051 1258.41mas 1043.74mas 703mas 1361.66750185 mas 1400.20569917 mas 27mas 24mas\n",
      "Average Offset ra=520.8 +- 133.2 mas dec=-163.3+- 120.2mas sigmas ra=690.4 mas dec=460.8 mas\n",
      "--- SHIVANI ---\n",
      "2144-4126 873.519mas 789.438mas -373.93mas 337.506951033 mas 330.769561024 mas 11.27mas 22.55mas\n",
      "2144-4137 355.162mas 346.439mas -78.23mas 123.921902635 mas 122.415848647 mas 12.12mas 24.2mas\n",
      "Average Offset ra=399.1 +- 143.3 mas dec=-113.9+- 96.3mas sigmas ra=221.5 mas dec=147.9 mas\n"
     ]
    },
    {
     "data": {
      "text/plain": [
       "(-1000, 500)"
      ]
     },
     "execution_count": 9,
     "metadata": {},
     "output_type": "execute_result"
    },
    {
     "data": {
      "image/png": "[encoded data removed]",
      "text/plain": [
       "<Figure size 432x288 with 1 Axes>"
      ]
     },
     "metadata": {},
     "output_type": "display_data"
    }
   ],
   "source": [
    "ax = gca()\n",
    "print '---- LIZ ----'\n",
    "liz_frb_off, liz_frb_err = plot_sep(liz_sources, adam_sources, ax)\n",
    "print '--- SHIVANI ---'\n",
    "shivani_frb_off, shivani_frb_err = plot_sep(shivani_sources, adam_sources, ax)\n",
    "xlim(0, 1000)\n",
    "ylim(-1000, 500)"
   ]
  },
  {
   "cell_type": "code",
   "execution_count": 10,
   "metadata": {},
   "outputs": [
    {
     "name": "stdout",
     "output_type": "stream",
     "text": [
      "2144-4126 873.519mas 789.438mas -373.93mas 337.506951033 mas 330.769561024 mas 11.27mas 22.55mas\n",
      "2144-4137 355.162mas 346.439mas -78.23mas 123.921902635 mas 122.415848647 mas 12.12mas 24.2mas\n",
      "Average Offset ra=399.1 +- 143.3 mas dec=-113.9+- 96.3mas sigmas ra=221.5 mas dec=147.9 mas\n"
     ]
    },
    {
     "data": {
      "text/plain": [
       "Text(0.5,1,'Shivani')"
      ]
     },
     "execution_count": 10,
     "metadata": {},
     "output_type": "execute_result"
    },
    {
     "data": {
      "image/png": "[encoded data removed]",
      "text/plain": [
       "<Figure size 432x288 with 1 Axes>"
      ]
     },
     "metadata": {},
     "output_type": "display_data"
    }
   ],
   "source": [
    "plot_sep(shivani_sources, adam_sources)\n",
    "xlim(-2000, 2000)\n",
    "ylim(-2000, 2000)\n",
    "gca().set_title('Shivani')"
   ]
  },
  {
   "cell_type": "code",
   "execution_count": 11,
   "metadata": {},
   "outputs": [
    {
     "data": {
      "text/plain": [
       "(21.781574222222226, 21.73239688888889)"
      ]
     },
     "execution_count": 11,
     "metadata": {},
     "output_type": "execute_result"
    },
    {
     "data": {
      "image/png": "[encoded data removed]",
      "text/plain": [
       "<Figure size 432x288 with 1 Axes>"
      ]
     },
     "metadata": {},
     "output_type": "display_data"
    }
   ],
   "source": [
    "for s, c in adam_sources.iteritems():\n",
    "    plot(c.s.ra.hourangle, c.s.dec.deg, 'x')\n",
    "    text(c.s.ra.hourangle, c.s.dec.deg, s)\n",
    "        \n",
    "xlim(xlim()[-1], xlim()[0])"
   ]
  },
  {
   "cell_type": "code",
   "execution_count": 12,
   "metadata": {},
   "outputs": [
    {
     "name": "stdout",
     "output_type": "stream",
     "text": [
      "21h44m25.2943s -40d53m59.9959s\n",
      "errors 274.02829202004324 211.29829026125324 mas statistical 158.729355179 140.0\n",
      "326.105392936 -40.8999988475 7.611897000556757e-05 5.869396951701479e-05\n"
     ]
    }
   ],
   "source": [
    "newra = frb.s.ra + (-shivani_cal_off[0] + shivani_frb_off[0])*u.mas\n",
    "newdec = frb.s.dec  + (-shivani_cal_off[1] + shivani_frb_off[1])*u.mas\n",
    "raerr = np.sqrt(frb.raerr.mas**2 + shivani_cal_err[0]**2 + shivani_frb_err[0]**2)\n",
    "decerr = np.sqrt(frb.decerr.mas**2 + shivani_cal_err[1]**2 + shivani_frb_err[1]**2)\n",
    "print newra.to(u.hourangle), newdec\n",
    "print 'errors', raerr, decerr, 'mas', 'statistical', frb.raerr.mas, frb.decerr.mas\n",
    "print newra.deg, newdec.deg, raerr/1000/3600., decerr/1000/3600."
   ]
  },
  {
   "cell_type": "code",
   "execution_count": null,
   "metadata": {},
   "outputs": [],
   "source": []
  },
  {
   "cell_type": "code",
   "execution_count": 13,
   "metadata": {},
   "outputs": [
    {
     "name": "stdout",
     "output_type": "stream",
     "text": [
      "326.105295833 -40.8999472222 4.40914875496e-05 3.88888888889e-05\n"
     ]
    }
   ],
   "source": [
    "print frb.s.ra.deg, frb.s.dec.deg, frb.raerr.to(u.degree).value, frb.decerr.to(u.degree).value"
   ]
  },
  {
   "cell_type": "code",
   "execution_count": 14,
   "metadata": {},
   "outputs": [
    {
     "data": {
      "text/plain": [
       "(array([49.49496843, 71.99848888]), array([28.88597783, 56.45657593]))"
      ]
     },
     "execution_count": 14,
     "metadata": {},
     "output_type": "execute_result"
    }
   ],
   "source": [
    "shivani_cal_off, shivani_cal_err"
   ]
  },
  {
   "cell_type": "code",
   "execution_count": 15,
   "metadata": {},
   "outputs": [
    {
     "data": {
      "text/plain": [
       "array([ 399.06608761, -113.85268816])"
      ]
     },
     "execution_count": 15,
     "metadata": {},
     "output_type": "execute_result"
    }
   ],
   "source": [
    "shivani_frb_off"
   ]
  },
  {
   "cell_type": "code",
   "execution_count": null,
   "metadata": {},
   "outputs": [],
   "source": []
  },
  {
   "cell_type": "code",
   "execution_count": null,
   "metadata": {},
   "outputs": [],
   "source": []
  },
  {
   "cell_type": "code",
   "execution_count": null,
   "metadata": {},
   "outputs": [],
   "source": []
  },
  {
   "cell_type": "code",
   "execution_count": null,
   "metadata": {},
   "outputs": [],
   "source": [
    "v = np.zeros((256,256), dtype=np.complex64)"
   ]
  },
  {
   "cell_type": "code",
   "execution_count": null,
   "metadata": {},
   "outputs": [],
   "source": [
    "%time np.fft.rfft2d(v)"
   ]
  },
  {
   "cell_type": "code",
   "execution_count": null,
   "metadata": {},
   "outputs": [],
   "source": []
  }
 ],
 "metadata": {
  "kernelspec": {
   "display_name": "Python 2",
   "language": "python",
   "name": "python2"
  },
  "language_info": {
   "codemirror_mode": {
    "name": "ipython",
    "version": 2
   },
   "file_extension": ".py",
   "mimetype": "text/x-python",
   "name": "python",
   "nbconvert_exporter": "python",
   "pygments_lexer": "ipython2",
   "version": "2.7.14"
  }
 },
 "nbformat": 4,
 "nbformat_minor": 2
}
